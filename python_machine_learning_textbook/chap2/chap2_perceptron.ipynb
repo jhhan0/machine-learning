{
 "cells": [
  {
   "cell_type": "markdown",
   "id": "b06d3055",
   "metadata": {},
   "source": [
    "# Perceptron \n",
    "\n",
    "- This tutorial incarnates perceptron as an object-oriented API and learns how to train the perceptron object using an Iris flowers dataset."
   ]
  },
  {
   "cell_type": "markdown",
   "id": "e4d4c7b7",
   "metadata": {},
   "source": [
    "### Import libraries"
   ]
  },
  {
   "cell_type": "code",
   "execution_count": 1,
   "id": "38e5f334",
   "metadata": {},
   "outputs": [],
   "source": [
    "import numpy as np"
   ]
  },
  {
   "cell_type": "markdown",
   "id": "beaa6cf0",
   "metadata": {},
   "source": [
    "### Instantiate perceptron class"
   ]
  },
  {
   "cell_type": "code",
   "execution_count": null,
   "id": "a8c3a061",
   "metadata": {},
   "outputs": [],
   "source": [
    "class Perceptron(object):\n",
    "    # Require updates\n",
    "    pass"
   ]
  }
 ],
 "metadata": {
  "kernelspec": {
   "display_name": "Python 3 (ipykernel)",
   "language": "python",
   "name": "python3"
  },
  "language_info": {
   "codemirror_mode": {
    "name": "ipython",
    "version": 3
   },
   "file_extension": ".py",
   "mimetype": "text/x-python",
   "name": "python",
   "nbconvert_exporter": "python",
   "pygments_lexer": "ipython3",
   "version": "3.9.7"
  }
 },
 "nbformat": 4,
 "nbformat_minor": 5
}
