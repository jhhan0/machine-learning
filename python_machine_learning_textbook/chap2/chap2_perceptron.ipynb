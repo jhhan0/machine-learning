{
 "cells": [
  {
   "cell_type": "markdown",
   "id": "b06d3055",
   "metadata": {},
   "source": [
    "# Perceptron \n",
    "\n",
    "- This tutorial incarnates perceptron as an object-oriented API and learns how to train the perceptron object using the Iris flowers dataset."
   ]
  },
  {
   "cell_type": "markdown",
   "id": "e4d4c7b7",
   "metadata": {},
   "source": [
    "### Import libraries"
   ]
  },
  {
   "cell_type": "code",
   "execution_count": 9,
   "id": "38e5f334",
   "metadata": {},
   "outputs": [],
   "source": [
    "import os\n",
    "import numpy as np\n",
    "import pandas as pd\n",
    "import matplotlib.pyplot as plt\n",
    "from matplotlib.colors import ListedColormap"
   ]
  },
  {
   "cell_type": "markdown",
   "id": "beaa6cf0",
   "metadata": {},
   "source": [
    "### Represent Perceptron as an object-oriented API"
   ]
  },
  {
   "cell_type": "code",
   "execution_count": 7,
   "id": "a8c3a061",
   "metadata": {},
   "outputs": [],
   "source": [
    "class Perceptron(object):\n",
    "    def __init__(self, lr=0.01, epochs=50, random_state=1):\n",
    "        # parameters:\n",
    "        # lr: float; learning rate\n",
    "        # epochs: int; number of iterations\n",
    "        # random_state: int; random generator seed\n",
    "        \n",
    "        # self.w_: 1-d array; learned weights\n",
    "        # self.errors_: list; classification errors accumulated from each epoch\n",
    "        \n",
    "        self.lr = lr\n",
    "        self.epochs = epochs\n",
    "        self.random_state = random_state\n",
    "        \n",
    "    def fit(self, X, y):\n",
    "        # parameters:\n",
    "        # X: {array-like}, shape = [n_samples, n_features]; training data\n",
    "        # y: array-like, shape = [n_samples]; target (label) data\n",
    "        \n",
    "        rgen = np.random.RandomState(self.random_state)\n",
    "        self.w_ = rgen.normal(loc=0.0, scale=0.01, size=1+X.shape[1])\n",
    "        self.errors_ = []\n",
    "        \n",
    "        for _ in range(self.epochs):\n",
    "            errors = 0\n",
    "            for xi, target in zip(X, y):\n",
    "                update = self.lr * (target - self.predict(xi))\n",
    "                self.w_[1:] += update * xi\n",
    "                self.w_[0] += update\n",
    "                errors += int(update != 0.0)\n",
    "            self.errors_.append(errors)\n",
    "        return self\n",
    "    \n",
    "    def net_input(self, X):\n",
    "        return np.dot(X, self.w_[1:]) + self.w_[0]\n",
    "    \n",
    "    def predict(self, X):\n",
    "        return np.where(self.net_input(X) >= 0.0, 1, -1) # using unit step function"
   ]
  },
  {
   "cell_type": "markdown",
   "id": "b45b105b",
   "metadata": {},
   "source": [
    "### Load Iris flowers dataset"
   ]
  },
  {
   "cell_type": "code",
   "execution_count": 3,
   "id": "21c0c7e5",
   "metadata": {},
   "outputs": [
    {
     "data": {
      "text/html": [
       "<div>\n",
       "<style scoped>\n",
       "    .dataframe tbody tr th:only-of-type {\n",
       "        vertical-align: middle;\n",
       "    }\n",
       "\n",
       "    .dataframe tbody tr th {\n",
       "        vertical-align: top;\n",
       "    }\n",
       "\n",
       "    .dataframe thead th {\n",
       "        text-align: right;\n",
       "    }\n",
       "</style>\n",
       "<table border=\"1\" class=\"dataframe\">\n",
       "  <thead>\n",
       "    <tr style=\"text-align: right;\">\n",
       "      <th></th>\n",
       "      <th>1</th>\n",
       "      <th>2</th>\n",
       "      <th>3</th>\n",
       "      <th>4</th>\n",
       "      <th>5</th>\n",
       "    </tr>\n",
       "    <tr>\n",
       "      <th>0</th>\n",
       "      <th></th>\n",
       "      <th></th>\n",
       "      <th></th>\n",
       "      <th></th>\n",
       "      <th></th>\n",
       "    </tr>\n",
       "  </thead>\n",
       "  <tbody>\n",
       "    <tr>\n",
       "      <th>1</th>\n",
       "      <td>5.1</td>\n",
       "      <td>3.5</td>\n",
       "      <td>1.4</td>\n",
       "      <td>0.2</td>\n",
       "      <td>Iris-setosa</td>\n",
       "    </tr>\n",
       "    <tr>\n",
       "      <th>2</th>\n",
       "      <td>4.9</td>\n",
       "      <td>3.0</td>\n",
       "      <td>1.4</td>\n",
       "      <td>0.2</td>\n",
       "      <td>Iris-setosa</td>\n",
       "    </tr>\n",
       "    <tr>\n",
       "      <th>3</th>\n",
       "      <td>4.7</td>\n",
       "      <td>3.2</td>\n",
       "      <td>1.3</td>\n",
       "      <td>0.2</td>\n",
       "      <td>Iris-setosa</td>\n",
       "    </tr>\n",
       "    <tr>\n",
       "      <th>4</th>\n",
       "      <td>4.6</td>\n",
       "      <td>3.1</td>\n",
       "      <td>1.5</td>\n",
       "      <td>0.2</td>\n",
       "      <td>Iris-setosa</td>\n",
       "    </tr>\n",
       "    <tr>\n",
       "      <th>5</th>\n",
       "      <td>5.0</td>\n",
       "      <td>3.6</td>\n",
       "      <td>1.4</td>\n",
       "      <td>0.2</td>\n",
       "      <td>Iris-setosa</td>\n",
       "    </tr>\n",
       "  </tbody>\n",
       "</table>\n",
       "</div>"
      ],
      "text/plain": [
       "     1    2    3    4            5\n",
       "0                                 \n",
       "1  5.1  3.5  1.4  0.2  Iris-setosa\n",
       "2  4.9  3.0  1.4  0.2  Iris-setosa\n",
       "3  4.7  3.2  1.3  0.2  Iris-setosa\n",
       "4  4.6  3.1  1.5  0.2  Iris-setosa\n",
       "5  5.0  3.6  1.4  0.2  Iris-setosa"
      ]
     },
     "execution_count": 3,
     "metadata": {},
     "output_type": "execute_result"
    }
   ],
   "source": [
    "df = pd.read_csv('./Iris.csv', header=None, encoding='utf-8', index_col=0)[1:]\n",
    "df.head()"
   ]
  },
  {
   "cell_type": "code",
   "execution_count": 4,
   "id": "cfa84cd9",
   "metadata": {},
   "outputs": [],
   "source": [
    "# get Iris-setosa and Iris-versicolor data (50 values each)\n",
    "y = df.iloc[0:100, 4].to_numpy()\n",
    "y = np.where(y == 'Iris-setosa', -1, 1)\n",
    "\n",
    "# get 'sepal length' and 'petal length' features from samples\n",
    "X = df.iloc[0:100, [0, 2]].to_numpy(dtype='float32')"
   ]
  },
  {
   "cell_type": "code",
   "execution_count": 5,
   "id": "d5474da7",
   "metadata": {},
   "outputs": [
    {
     "data": {
      "image/png": "[encoded data removed]",
      "text/plain": [
       "<Figure size 432x288 with 1 Axes>"
      ]
     },
     "metadata": {
      "needs_background": "light"
     },
     "output_type": "display_data"
    }
   ],
   "source": [
    "plt.scatter(X[:50, 0], X[:50, 1], color='red', marker='o', label='setosa')\n",
    "plt.scatter(X[50:100, 0], X[50:100, 1], color='blue', marker='x', label='versicolor')\n",
    "plt.xlabel('sepal length (cm)')\n",
    "plt.ylabel('petal length (cm)')\n",
    "plt.legend(loc='upper left')\n",
    "plt.show()"
   ]
  },
  {
   "cell_type": "markdown",
   "id": "36fc08d2",
   "metadata": {},
   "source": [
    "### Train perceptron algorithm using the data"
   ]
  },
  {
   "cell_type": "code",
   "execution_count": 8,
   "id": "4b4bcd37",
   "metadata": {},
   "outputs": [
    {
     "data": {
      "image/png": "[encoded data removed]",
      "text/plain": [
       "<Figure size 432x288 with 1 Axes>"
      ]
     },
     "metadata": {
      "needs_background": "light"
     },
     "output_type": "display_data"
    }
   ],
   "source": [
    "ppn = Perceptron(lr=0.1, epochs=10)\n",
    "ppn.fit(X, y)\n",
    "\n",
    "plt.plot(range(1, len(ppn.errors_)+1), ppn.errors_, marker='o')\n",
    "plt.xlabel('Epochs')\n",
    "plt.ylabel('# of updates')\n",
    "plt.show()"
   ]
  },
  {
   "cell_type": "markdown",
   "id": "b4e6b015",
   "metadata": {},
   "source": [
    "### Display a decision boundary of 2-D dataset"
   ]
  },
  {
   "cell_type": "code",
   "execution_count": 16,
   "id": "2c4c3286",
   "metadata": {},
   "outputs": [],
   "source": [
    "def display_decision_boundary(X, y, classifier, step=0.02):\n",
    "    markers = ('o', 'x', 's', '^', 'v')\n",
    "    colors = ['red', 'blue', 'green', 'yellow', 'gray']\n",
    "    cmap = ListedColormap(colors[:len(np.unique(y))])\n",
    "\n",
    "    # display a decision boundary\n",
    "    x1_min, x1_max = X[:, 0].min(), X[:, 0].max()\n",
    "    x2_min, x2_max = X[:, 1].min(), X[:, 1].max()\n",
    "    # cdts is a short-form of coordinates\n",
    "    # np.meshgrid returns coordinate matrices from coordinate vectors\n",
    "    x1_cdts, x2_cdts = np.meshgrid(np.arange(x1_min-1, x1_max+1, step), np.arange(x2_min-1, x2_max+1, step))\n",
    "    Z = classifier.predict(np.array([x1_cdts.ravel(), x2_cdts.ravel()]).T) # transpose an array using .T\n",
    "    Z = Z.reshape(x1_cdts.shape)\n",
    "    plt.contourf(x1_cdts, x2_cdts, Z, alpha=0.3, cmap=cmap)\n",
    "    plt.xlim(x1_cdts.min(), x1_cdts.max())\n",
    "    plt.ylim(x2_cdts.min(), x2_cdts.max())\n",
    "\n",
    "    labels = {-1:'setosa', 1:'versicolor'}\n",
    "    \n",
    "    for idx, cl in enumerate(np.unique(y)):\n",
    "        plt.scatter(x=X[y == cl, 0], \n",
    "                    y=X[y == cl, 1], # use of boolean masks\n",
    "                    alpha=0.8,\n",
    "                    c=colors[idx],\n",
    "                    marker=markers[idx],\n",
    "                    label=labels[cl],\n",
    "        )"
   ]
  },
  {
   "cell_type": "code",
   "execution_count": 17,
   "id": "0f11c8e8",
   "metadata": {},
   "outputs": [
    {
     "data": {
      "image/png": "[encoded data removed]",
      "text/plain": [
       "<Figure size 432x288 with 1 Axes>"
      ]
     },
     "metadata": {
      "needs_background": "light"
     },
     "output_type": "display_data"
    }
   ],
   "source": [
    "display_decision_boundary(X, y, ppn)\n",
    "plt.xlabel('sepal length (cm)')\n",
    "plt.ylabel('petal length (cm)')\n",
    "plt.legend(loc='upper left')\n",
    "plt.show()"
   ]
  }
 ],
 "metadata": {
  "kernelspec": {
   "display_name": "Python 3 (ipykernel)",
   "language": "python",
   "name": "python3"
  },
  "language_info": {
   "codemirror_mode": {
    "name": "ipython",
    "version": 3
   },
   "file_extension": ".py",
   "mimetype": "text/x-python",
   "name": "python",
   "nbconvert_exporter": "python",
   "pygments_lexer": "ipython3",
   "version": "3.9.7"
  }
 },
 "nbformat": 4,
 "nbformat_minor": 5
}
