{
 "cells": [
  {
   "cell_type": "markdown",
   "id": "b3c31494",
   "metadata": {},
   "source": [
    "# Introduction to scikit-learn API\n",
    "\n",
    "- This tutorial introduces the usage of simple and efficient scikit-learn API."
   ]
  },
  {
   "cell_type": "markdown",
   "id": "6d67255d",
   "metadata": {},
   "source": [
    "### Import libraries"
   ]
  },
  {
   "cell_type": "code",
   "execution_count": 1,
   "id": "325452b7",
   "metadata": {},
   "outputs": [],
   "source": [
    "import numpy as np\n",
    "import matplotlib.pyplot as plt\n",
    "from matplotlib.colors import ListedColormap\n",
    "from sklearn import datasets\n",
    "from sklearn.model_selection import train_test_split\n",
    "from sklearn.preprocessing import StandardScaler\n",
    "from sklearn.linear_model import Perceptron"
   ]
  },
  {
   "cell_type": "markdown",
   "id": "376a5172",
   "metadata": {},
   "source": [
    "### Load and preprocess iris flowers dataset"
   ]
  },
  {
   "cell_type": "code",
   "execution_count": 2,
   "id": "7d9fe24e",
   "metadata": {},
   "outputs": [],
   "source": [
    "iris = datasets.load_iris() # returns scikit-learn's bunch object that contains 'data', 'target', 'feature_names' etc.\n",
    "X = iris.data[:, [2, 3]] # features\n",
    "y = iris.target # targets (labels)"
   ]
  },
  {
   "cell_type": "code",
   "execution_count": 3,
   "id": "a9ea76f2",
   "metadata": {},
   "outputs": [
    {
     "name": "stdout",
     "output_type": "stream",
     "text": [
      "['sepal length (cm)', 'sepal width (cm)', 'petal length (cm)', 'petal width (cm)']\n",
      "['setosa' 'versicolor' 'virginica']\n",
      "Class label (integer encoding): [0 1 2]\n"
     ]
    }
   ],
   "source": [
    "print(iris.feature_names)\n",
    "print(iris.target_names)\n",
    "print('Class label (integer encoding):', np.unique(y))"
   ]
  },
  {
   "cell_type": "code",
   "execution_count": 4,
   "id": "d5e31c1d",
   "metadata": {},
   "outputs": [],
   "source": [
    "X_train, X_test, y_train, y_test = train_test_split(X, y, test_size=0.3, random_state=1, stratify=y)\n",
    "# randomly divides dataset into training and test data using test_size ratio 7 (train) : 3 (test) "
   ]
  },
  {
   "cell_type": "code",
   "execution_count": 5,
   "id": "f2188455",
   "metadata": {},
   "outputs": [],
   "source": [
    "# Feature standardization using scikit-learn API\n",
    "\n",
    "sc = StandardScaler() # load StandardScaler class and initialize new StandardScaler object to the variable\n",
    "sc.fit(X_train) # calculate the mean and std of each feature in training data\n",
    "# standardize both training and test data using the values previously calculated\n",
    "X_train_std = sc.transform(X_train) \n",
    "X_test_std = sc.transform(X_test)"
   ]
  },
  {
   "cell_type": "markdown",
   "id": "7ba27854",
   "metadata": {},
   "source": [
    "### Train a perceptron model using scikit-learn API"
   ]
  },
  {
   "cell_type": "code",
   "execution_count": 6,
   "id": "3d68ca89",
   "metadata": {},
   "outputs": [
    {
     "data": {
      "text/plain": [
       "Perceptron(eta0=0.1, random_state=1)"
      ]
     },
     "execution_count": 6,
     "metadata": {},
     "output_type": "execute_result"
    }
   ],
   "source": [
    "ppn = Perceptron(eta0=0.1, random_state=1)\n",
    "ppn.fit(X_train_std, y_train)"
   ]
  },
  {
   "cell_type": "code",
   "execution_count": 7,
   "id": "321d2354",
   "metadata": {},
   "outputs": [
    {
     "name": "stdout",
     "output_type": "stream",
     "text": [
      "Accuracy: 0.978\n"
     ]
    }
   ],
   "source": [
    "# calculate accuracy of the perceptron model\n",
    "print('Accuracy: {:.3f}'.format(ppn.score(X_test_std, y_test)))"
   ]
  },
  {
   "cell_type": "code",
   "execution_count": 8,
   "id": "ab33793a",
   "metadata": {},
   "outputs": [],
   "source": [
    "def display_decision_boundary(X, y, classifier, test_idx=None, step=0.02):\n",
    "    markers = ('o', 'x', 's', '^', 'v')\n",
    "    colors = ['red', 'blue', 'green', 'yellow', 'gray']\n",
    "    cmap = ListedColormap(colors[:len(np.unique(y))])\n",
    "\n",
    "    # display a decision boundary\n",
    "    x1_min, x1_max = X[:, 0].min(), X[:, 0].max()\n",
    "    x2_min, x2_max = X[:, 1].min(), X[:, 1].max()\n",
    "    # cdts is a short-form of coordinates\n",
    "    # np.meshgrid returns coordinate matrices from coordinate vectors\n",
    "    x1_cdts, x2_cdts = np.meshgrid(np.arange(x1_min-1, x1_max+1, step), np.arange(x2_min-1, x2_max+1, step))\n",
    "    Z = classifier.predict(np.array([x1_cdts.ravel(), x2_cdts.ravel()]).T) # transpose an array using .T\n",
    "    Z = Z.reshape(x1_cdts.shape)\n",
    "    plt.contourf(x1_cdts, x2_cdts, Z, alpha=0.3, cmap=cmap)\n",
    "    plt.xlim(x1_cdts.min(), x1_cdts.max())\n",
    "    plt.ylim(x2_cdts.min(), x2_cdts.max())\n",
    "\n",
    "    labels = {0:'setosa', 1:'versicolor', 2:'virginica'}\n",
    "    \n",
    "    for idx, cl in enumerate(np.unique(y)):\n",
    "        plt.scatter(x=X[y == cl, 0], \n",
    "                    y=X[y == cl, 1], # use of boolean masks\n",
    "                    alpha=0.8,\n",
    "                    c=colors[idx],\n",
    "                    marker=markers[idx],\n",
    "                    label=labels[cl],\n",
    "        )\n",
    "    \n",
    "    # plot test data differently; use circle\n",
    "    if test_idx:\n",
    "        X_test, y_test = X[test_idx, :], y[test_idx]\n",
    "        \n",
    "        plt.scatter(x=X_test[:, 0],\n",
    "                    y=X_test[:, 1],\n",
    "                    facecolor='none',\n",
    "                    edgecolor='black',\n",
    "                    alpha=1.0,\n",
    "                    linewidth=1,\n",
    "                    marker='o',\n",
    "                    s=100,\n",
    "                    label='test'\n",
    "                   )"
   ]
  },
  {
   "cell_type": "markdown",
   "id": "26a55e31",
   "metadata": {},
   "source": [
    "### Display a decision boundary"
   ]
  },
  {
   "cell_type": "code",
   "execution_count": 9,
   "id": "522e2422",
   "metadata": {},
   "outputs": [
    {
     "data": {
      "image/png": "[encoded data removed]",
      "text/plain": [
       "<Figure size 432x288 with 1 Axes>"
      ]
     },
     "metadata": {
      "needs_background": "light"
     },
     "output_type": "display_data"
    }
   ],
   "source": [
    "X_combined_std = np.vstack((X_train_std, X_test_std))\n",
    "y_combined = np.hstack((y_train, y_test))\n",
    "display_decision_boundary(X_combined_std, y_combined, classifier=ppn, test_idx=range(105, 150))\n",
    "plt.xlabel('sepal length (standardized)')\n",
    "plt.ylabel('petal length (standardized)')\n",
    "plt.legend(loc='upper left')\n",
    "plt.tight_layout()\n",
    "plt.show()"
   ]
  }
 ],
 "metadata": {
  "kernelspec": {
   "display_name": "Python 3 (ipykernel)",
   "language": "python",
   "name": "python3"
  },
  "language_info": {
   "codemirror_mode": {
    "name": "ipython",
    "version": 3
   },
   "file_extension": ".py",
   "mimetype": "text/x-python",
   "name": "python",
   "nbconvert_exporter": "python",
   "pygments_lexer": "ipython3",
   "version": "3.9.7"
  }
 },
 "nbformat": 4,
 "nbformat_minor": 5
}
