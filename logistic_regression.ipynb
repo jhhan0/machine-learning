{
  "nbformat": 4,
  "nbformat_minor": 0,
  "metadata": {
    "colab": {
      "name": "logistic-regression.ipynb",
      "provenance": [],
      "collapsed_sections": [],
      "authorship_tag": "ABX9TyM1NRorn39BSHlh8+MqO1PX",
      "include_colab_link": true
    },
    "kernelspec": {
      "name": "python3",
      "display_name": "Python 3"
    },
    "language_info": {
      "name": "python"
    }
  },
  "cells": [
    {
      "cell_type": "markdown",
      "metadata": {
        "id": "view-in-github",
        "colab_type": "text"
      },
      "source": [
        "<a href=\"https://colab.research.google.com/github/jhhan0/machine-learning/blob/main/logistic_regression.ipynb\" target=\"_parent\"><img src=\"https://colab.research.google.com/assets/colab-badge.svg\" alt=\"Open In Colab\"/></a>"
      ]
    },
    {
      "cell_type": "markdown",
      "metadata": {
        "id": "LlRBTaDEo1Co"
      },
      "source": [
        "## Logistic regression tutorial using tensorflow keras\n"
      ]
    },
    {
      "cell_type": "code",
      "metadata": {
        "id": "urcbJjY3oxP8"
      },
      "source": [
        "import numpy as np\n",
        "import matplotlib.pyplot as plt"
      ],
      "execution_count": 1,
      "outputs": []
    },
    {
      "cell_type": "markdown",
      "metadata": {
        "id": "gaxI5oWyE6rF"
      },
      "source": [
        "### Understand sigmoid function"
      ]
    },
    {
      "cell_type": "code",
      "metadata": {
        "colab": {
          "base_uri": "https://localhost:8080/",
          "height": 281
        },
        "id": "V7GFAXU_E5iS",
        "outputId": "677a9764-0729-4c01-8dd3-8b35cfecc4ef"
      },
      "source": [
        "# Sigmoid function: 1 / (1 + e^(Wx + B)) where W and B represents Weight and Bias respectively.\n",
        "\n",
        "# Here we assume W = 1 and B = 0\n",
        "def sigmoid(x):\n",
        "  return (1 / (1 + np.exp(-x)))\n",
        "\n",
        "x = np.arange(-5.0, 5.0, 0.1)\n",
        "y = sigmoid(x)\n",
        "\n",
        "plt.plot(x, y, 'g')\n",
        "plt.plot([0, 0], [1.0, 0.0], ':')\n",
        "plt.title('Sigmoid Function')\n",
        "plt.show()"
      ],
      "execution_count": 3,
      "outputs": [
        {
          "output_type": "display_data",
          "data": {
            "image/png": "[encoded data removed]",
            "text/plain": [
              "<Figure size 432x288 with 1 Axes>"
            ]
          },
          "metadata": {
            "needs_background": "light"
          }
        }
      ]
    },
    {
      "cell_type": "markdown",
      "metadata": {
        "id": "aRwEcrE1Y-CG"
      },
      "source": [
        "### Logistic regression using keras"
      ]
    },
    {
      "cell_type": "code",
      "metadata": {
        "id": "FFlfirD2ZLv0"
      },
      "source": [
        "from tensorflow.keras.models import Sequential\n",
        "from tensorflow.keras.layers import Dense\n",
        "from tensorflow.keras import Input\n",
        "from tensorflow.keras import optimizers"
      ],
      "execution_count": 4,
      "outputs": []
    },
    {
      "cell_type": "code",
      "metadata": {
        "colab": {
          "base_uri": "https://localhost:8080/"
        },
        "id": "gcWkRbnSZb0H",
        "outputId": "60b35aa0-c6b8-4f0b-b05f-d2a9393e4586"
      },
      "source": [
        "# True (1) if number is greater or equal to 10, otherwise False (0)\n",
        "x = np.array([-50, -40, -30, -20, -10, -5, 0, 5, 10, 20, 30, 40, 50])\n",
        "y = np.array([0, 0, 0, 0, 0, 0, 0, 0, 1, 1, 1, 1, 1])\n",
        "\n",
        "model = Sequential()\n",
        "# Mapping relationship: input 1, output 1\n",
        "model.add(Input(shape=(1,)))\n",
        "model.add(Dense(1, activation='sigmoid'))\n",
        "\n",
        "# Use gradient descent optimizer with learning rate 0.01\n",
        "sgd = optimizers.SGD(learning_rate=0.01)\n",
        "model.compile(optimizer=sgd, loss='binary_crossentropy', metrics=['binary_accuracy'])\n",
        "\n",
        "# For easing visibility, I set verbose equal to 0\n",
        "model.fit(x, y, batch_size=1, verbose=0, epochs=200, shuffle=False)"
      ],
      "execution_count": 6,
      "outputs": [
        {
          "output_type": "execute_result",
          "data": {
            "text/plain": [
              "<keras.callbacks.History at 0x7f981503c690>"
            ]
          },
          "metadata": {},
          "execution_count": 6
        }
      ]
    },
    {
      "cell_type": "code",
      "metadata": {
        "colab": {
          "base_uri": "https://localhost:8080/",
          "height": 281
        },
        "id": "R6ubWOlKbPQJ",
        "outputId": "9da45a10-bc67-468c-9d16-dfb400e1fb24"
      },
      "source": [
        "plt.title('Predicted Sigmoid function')\n",
        "plt.plot(x, model.predict(x), 'b', x, y, 'k.')\n",
        "plt.show()"
      ],
      "execution_count": 7,
      "outputs": [
        {
          "output_type": "display_data",
          "data": {
            "image/png": "[encoded data removed]",
            "text/plain": [
              "<Figure size 432x288 with 1 Axes>"
            ]
          },
          "metadata": {
            "needs_background": "light"
          }
        }
      ]
    },
    {
      "cell_type": "code",
      "metadata": {
        "colab": {
          "base_uri": "https://localhost:8080/"
        },
        "id": "JwMRHa6IbpuU",
        "outputId": "c84e26b2-040b-4fe2-f29f-bc9dca97c03a"
      },
      "source": [
        "# Test\n",
        "print(model.predict([1, 2, 3, 4, 5]))\n",
        "print(model.predict([11, 12, 13, 14, 15]))"
      ],
      "execution_count": 11,
      "outputs": [
        {
          "output_type": "stream",
          "name": "stdout",
          "text": [
            "[[0.21059543]\n",
            " [0.26896343]\n",
            " [0.33661044]\n",
            " [0.41168982]\n",
            " [0.4911179 ]]\n",
            "[[0.8691177 ]\n",
            " [0.9015558 ]\n",
            " [0.92663306]\n",
            " [0.9457069 ]\n",
            " [0.96003586]]\n"
          ]
        }
      ]
    },
    {
      "cell_type": "code",
      "metadata": {
        "id": "2LcqjqOXcEq9"
      },
      "source": [
        "# Test result shows the probability of each number whether it is greater or equal to 10.\n",
        "# As you can see from the function drawn above, it can be infered that if a number is less than or equal to 5, the prob. is less than 0.5.\n",
        "# On the other hand, if a number is greater or equal to 10, the prob. is greater than 0.5.\n",
        "# More dataset would give us more accurate result of determining a number whether it is greater or equal to 10."
      ],
      "execution_count": 12,
      "outputs": []
    }
  ]
}