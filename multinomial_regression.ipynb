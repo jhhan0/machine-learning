{
  "nbformat": 4,
  "nbformat_minor": 0,
  "metadata": {
    "colab": {
      "name": "multinomial-regression.ipynb",
      "provenance": [],
      "collapsed_sections": [],
      "authorship_tag": "ABX9TyOj1vwPfKyiG2RhHFazknRX",
      "include_colab_link": true
    },
    "kernelspec": {
      "name": "python3",
      "display_name": "Python 3"
    },
    "language_info": {
      "name": "python"
    }
  },
  "cells": [
    {
      "cell_type": "markdown",
      "metadata": {
        "id": "view-in-github",
        "colab_type": "text"
      },
      "source": [
        "<a href=\"https://colab.research.google.com/github/jhhan0/machine-learning/blob/main/multinomial_regression.ipynb\" target=\"_parent\"><img src=\"https://colab.research.google.com/assets/colab-badge.svg\" alt=\"Open In Colab\"/></a>"
      ]
    },
    {
      "cell_type": "markdown",
      "metadata": {
        "id": "KxJ-VFs9R7F6"
      },
      "source": [
        "## Multinomial linear regression"
      ]
    },
    {
      "cell_type": "code",
      "metadata": {
        "id": "jyVbGHGPRik1"
      },
      "source": [
        "import numpy as np\n",
        "import pandas as pd\n",
        "from tensorflow.keras.models import Sequential\n",
        "from tensorflow.keras.layers import Dense\n",
        "from tensorflow.keras import Input\n",
        "from tensorflow.keras import optimizers"
      ],
      "execution_count": 2,
      "outputs": []
    },
    {
      "cell_type": "code",
      "metadata": {
        "colab": {
          "base_uri": "https://localhost:8080/",
          "height": 204
        },
        "id": "j8WIyIKlY8s4",
        "outputId": "240031ee-a4fe-4a58-b3cf-5291eae47c50"
      },
      "source": [
        "data = np.array([[70, 85, 11, 73], [71, 89, 18, 82], [50, 80, 20, 72], [99, 20, 10, 57], [50, 10, 10, 34], [20, 99, 10, 58], [40, 50, 20, 56]])\n",
        "df = pd.DataFrame(data, columns=['Midterm', 'Final', 'Additional point', 'Score'])\n",
        "df.head()"
      ],
      "execution_count": 17,
      "outputs": [
        {
          "output_type": "execute_result",
          "data": {
            "text/html": [
              "<div>\n",
              "<style scoped>\n",
              "    .dataframe tbody tr th:only-of-type {\n",
              "        vertical-align: middle;\n",
              "    }\n",
              "\n",
              "    .dataframe tbody tr th {\n",
              "        vertical-align: top;\n",
              "    }\n",
              "\n",
              "    .dataframe thead th {\n",
              "        text-align: right;\n",
              "    }\n",
              "</style>\n",
              "<table border=\"1\" class=\"dataframe\">\n",
              "  <thead>\n",
              "    <tr style=\"text-align: right;\">\n",
              "      <th></th>\n",
              "      <th>Midterm</th>\n",
              "      <th>Final</th>\n",
              "      <th>Additional point</th>\n",
              "      <th>Score</th>\n",
              "    </tr>\n",
              "  </thead>\n",
              "  <tbody>\n",
              "    <tr>\n",
              "      <th>0</th>\n",
              "      <td>70</td>\n",
              "      <td>85</td>\n",
              "      <td>11</td>\n",
              "      <td>73</td>\n",
              "    </tr>\n",
              "    <tr>\n",
              "      <th>1</th>\n",
              "      <td>71</td>\n",
              "      <td>89</td>\n",
              "      <td>18</td>\n",
              "      <td>82</td>\n",
              "    </tr>\n",
              "    <tr>\n",
              "      <th>2</th>\n",
              "      <td>50</td>\n",
              "      <td>80</td>\n",
              "      <td>20</td>\n",
              "      <td>72</td>\n",
              "    </tr>\n",
              "    <tr>\n",
              "      <th>3</th>\n",
              "      <td>99</td>\n",
              "      <td>20</td>\n",
              "      <td>10</td>\n",
              "      <td>57</td>\n",
              "    </tr>\n",
              "    <tr>\n",
              "      <th>4</th>\n",
              "      <td>50</td>\n",
              "      <td>10</td>\n",
              "      <td>10</td>\n",
              "      <td>34</td>\n",
              "    </tr>\n",
              "  </tbody>\n",
              "</table>\n",
              "</div>"
            ],
            "text/plain": [
              "   Midterm  Final  Additional point  Score\n",
              "0       70     85                11     73\n",
              "1       71     89                18     82\n",
              "2       50     80                20     72\n",
              "3       99     20                10     57\n",
              "4       50     10                10     34"
            ]
          },
          "metadata": {},
          "execution_count": 17
        }
      ]
    },
    {
      "cell_type": "code",
      "metadata": {
        "colab": {
          "base_uri": "https://localhost:8080/"
        },
        "id": "Ybup2WOtYRNr",
        "outputId": "2b1dc995-24c6-4640-8991-5f6502197144"
      },
      "source": [
        "# Multinomial linear regression for finalizing score from Midterm, Final and Additional points.\n",
        "# Three independent variables\n",
        "\n",
        "# Using top five data from df\n",
        "x = df[['Midterm', 'Final', 'Additional point']][:5].to_numpy()\n",
        "y = df['Score'][:5].to_numpy()\n",
        "\n",
        "model = Sequential()\n",
        "model.add(Input(shape=(3,)))\n",
        "model.add(Dense(1, activation='linear'))\n",
        "\n",
        "sgd = optimizers.SGD(learning_rate=0.00001)\n",
        "\n",
        "model.compile(optimizer=sgd, loss='mse', metrics=['mse'])\n",
        "\n",
        "model.fit(x, y, batch_size=1, verbose=0, epochs=2000, shuffle=False)"
      ],
      "execution_count": 31,
      "outputs": [
        {
          "output_type": "execute_result",
          "data": {
            "text/plain": [
              "<keras.callbacks.History at 0x7f7667341dd0>"
            ]
          },
          "metadata": {},
          "execution_count": 31
        }
      ]
    },
    {
      "cell_type": "code",
      "metadata": {
        "colab": {
          "base_uri": "https://localhost:8080/"
        },
        "id": "ajBFVcXNaYSw",
        "outputId": "e02a2206-8ee1-4eda-bb7c-e0320fb2324c"
      },
      "source": [
        "# Compare the predicted value with the actual value \n",
        "print(model.predict(x))\n",
        "print(y)"
      ],
      "execution_count": 34,
      "outputs": [
        {
          "output_type": "stream",
          "name": "stdout",
          "text": [
            "[[73.18811 ]\n",
            " [81.983635]\n",
            " [71.90897 ]\n",
            " [57.16933 ]\n",
            " [33.64618 ]]\n",
            "[73 82 72 57 34]\n"
          ]
        }
      ]
    },
    {
      "cell_type": "code",
      "metadata": {
        "colab": {
          "base_uri": "https://localhost:8080/"
        },
        "id": "vuGCdXEWccmH",
        "outputId": "9d3325fa-126c-4d57-fb70-b5d6fcee5861"
      },
      "source": [
        "# Use test data to test the model's prediction\n",
        "test = df[['Midterm', 'Final', 'Additional point']][5:].to_numpy()\n",
        "print(model.predict(test))\n",
        "print(df['Score'][5:].to_numpy())"
      ],
      "execution_count": 36,
      "outputs": [
        {
          "output_type": "stream",
          "name": "stdout",
          "text": [
            "[[58.107307]\n",
            " [55.685383]]\n",
            "[58 56]\n"
          ]
        }
      ]
    }
  ]
}