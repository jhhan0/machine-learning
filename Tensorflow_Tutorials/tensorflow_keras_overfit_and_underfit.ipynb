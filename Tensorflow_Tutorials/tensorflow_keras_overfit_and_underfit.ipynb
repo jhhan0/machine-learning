{
 "cells": [
  {
   "cell_type": "markdown",
   "id": "56ee49d8",
   "metadata": {},
   "source": [
    "# Overfit and underfit\n",
    "- Overfitting and underfitting are common phenomenon that can be easily observed when training the model. Overfitting occurs when the model is highly dependent on the train data. On the other hand, underfitting happens when there is still room for improvement on the train data. Therefore, learning how to deal with overfitting and underfitting is important so that the developed model can able to generalize well to a testing set. \n",
    "- This tutorial will cover several common regularization techniques as well as preventing overfitting and underfitting to improve a classification model. \n",
    "- Full tutorial reference: https://www.tensorflow.org/tutorials/keras/overfit_and_underfit"
   ]
  },
  {
   "cell_type": "markdown",
   "id": "efb73b0a",
   "metadata": {},
   "source": [
    "### Import necessary libraries"
   ]
  },
  {
   "cell_type": "code",
   "execution_count": 1,
   "id": "33a26e50",
   "metadata": {},
   "outputs": [
    {
     "name": "stdout",
     "output_type": "stream",
     "text": [
      "Tensorflow version: 2.9.1\n"
     ]
    }
   ],
   "source": [
    "import numpy as np\n",
    "import matplotlib.pyplot as plt\n",
    "import tensorflow as tf\n",
    "import tensorflow_docs as tfdocs\n",
    "import tensorflow_docs.modeling\n",
    "import tensorflow_docs.plots\n",
    "\n",
    "print('Tensorflow version:', tf.__version__)"
   ]
  },
  {
   "cell_type": "markdown",
   "id": "755eb23d",
   "metadata": {},
   "source": [
    "### The Higgs dataset"
   ]
  },
  {
   "cell_type": "code",
   "execution_count": 2,
   "id": "4c57ea0f",
   "metadata": {},
   "outputs": [],
   "source": [
    "gz = tf.keras.utils.get_file('HIGGS.csv.gz', 'http://mlphysics.ics.uci.edu/data/higgs/HIGGS.csv.gz')"
   ]
  },
  {
   "cell_type": "code",
   "execution_count": 3,
   "id": "0987abcf",
   "metadata": {},
   "outputs": [],
   "source": [
    "FEATURES = 28\n",
    "ds = tf.data.experimental.CsvDataset(gz, [float(),]*(FEATURES+1), compression_type='GZIP')"
   ]
  },
  {
   "cell_type": "code",
   "execution_count": 4,
   "id": "6a4f3b94",
   "metadata": {},
   "outputs": [],
   "source": [
    "def pack_row(*row):\n",
    "    label = row[0]\n",
    "    features = tf.stack(row[1:], 1)\n",
    "    return features, label"
   ]
  },
  {
   "cell_type": "code",
   "execution_count": 5,
   "id": "c2c6024d",
   "metadata": {},
   "outputs": [],
   "source": [
    "packed_ds = ds.batch(10000).map(pack_row).unbatch()"
   ]
  },
  {
   "cell_type": "code",
   "execution_count": 6,
   "id": "e74fa383",
   "metadata": {},
   "outputs": [
    {
     "name": "stdout",
     "output_type": "stream",
     "text": [
      "tf.Tensor(\n",
      "[ 0.8692932  -0.6350818   0.22569026  0.32747006 -0.6899932   0.75420225\n",
      " -0.24857314 -1.0920639   0.          1.3749921  -0.6536742   0.9303491\n",
      "  1.1074361   1.1389043  -1.5781983  -1.0469854   0.          0.65792954\n",
      " -0.01045457 -0.04576717  3.1019614   1.35376     0.9795631   0.97807616\n",
      "  0.92000484  0.72165745  0.98875093  0.87667835], shape=(28,), dtype=float32)\n"
     ]
    },
    {
     "data": {
      "image/png": "[encoded data removed]",
      "text/plain": [
       "<Figure size 432x288 with 1 Axes>"
      ]
     },
     "metadata": {
      "needs_background": "light"
     },
     "output_type": "display_data"
    }
   ],
   "source": [
    "for features,label in packed_ds.batch(1000).take(1):\n",
    "    print(features[0])\n",
    "    plt.hist(features.numpy().flatten(), bins = 101)"
   ]
  },
  {
   "cell_type": "code",
   "execution_count": 7,
   "id": "a392cbe7",
   "metadata": {},
   "outputs": [],
   "source": [
    "N_VALIDATION = int(1e3)\n",
    "N_TRAIN = int(1e4)\n",
    "BUFFER_SIZE = int(1e4)\n",
    "BATCH_SIZE = 500\n",
    "STEPS_PER_EPOCH = N_TRAIN//BATCH_SIZE"
   ]
  },
  {
   "cell_type": "code",
   "execution_count": 8,
   "id": "86c2dd60",
   "metadata": {},
   "outputs": [],
   "source": [
    "validate_ds = packed_ds.take(N_VALIDATION).cache()\n",
    "train_ds = packed_ds.skip(N_VALIDATION).take(N_TRAIN).cache()"
   ]
  },
  {
   "cell_type": "code",
   "execution_count": 9,
   "id": "55d2e478",
   "metadata": {},
   "outputs": [],
   "source": [
    "validate_ds = validate_ds.batch(BATCH_SIZE)\n",
    "train_ds = train_ds.shuffle(BUFFER_SIZE).repeat().batch(BATCH_SIZE)"
   ]
  },
  {
   "cell_type": "markdown",
   "id": "d674fde5",
   "metadata": {},
   "source": [
    "### Training procedure\n",
    "- *tf.keras.optimizers.schedule* to reduce the learning rate over time\n",
    "- *tfdocs.EpochDots* to reduce the logging noise\n",
    "- *tf.keras.callbacks.EarlyStopping* to avoid long and unnecessary training times\n",
    "- *tf.keras.callbacks.TensorBoard* to generate TensorBoard logs for the training"
   ]
  },
  {
   "cell_type": "code",
   "execution_count": 10,
   "id": "544dcb6c",
   "metadata": {},
   "outputs": [],
   "source": [
    "lr_schedule = tf.keras.optimizers.schedules.InverseTimeDecay(0.001,\n",
    "                                                             decay_steps=STEPS_PER_EPOCH*1000,\n",
    "                                                             decay_rate=1,\n",
    "                                                             staircase=False)\n",
    "def get_optimizer():\n",
    "    return tf.keras.optimizers.Adam(lr_schedule)"
   ]
  },
  {
   "cell_type": "code",
   "execution_count": 11,
   "id": "48db3de5",
   "metadata": {
    "scrolled": false
   },
   "outputs": [
    {
     "data": {
      "image/png": "[encoded data removed]",
      "text/plain": [
       "<Figure size 576x432 with 1 Axes>"
      ]
     },
     "metadata": {
      "needs_background": "light"
     },
     "output_type": "display_data"
    }
   ],
   "source": [
    "step = np.linspace(0,100000)\n",
    "lr = lr_schedule(step)\n",
    "plt.figure(figsize = (8,6))\n",
    "plt.plot(step/STEPS_PER_EPOCH, lr)\n",
    "plt.ylim([0, max(plt.ylim())])\n",
    "plt.xlabel('Epoch')\n",
    "plt.ylabel('Learning Rate')\n",
    "plt.show()"
   ]
  },
  {
   "cell_type": "markdown",
   "id": "801830a2",
   "metadata": {},
   "source": [
    "### Pre-defined functions\n",
    "- Each model in this tutorial will utilize the same training configuration created below"
   ]
  },
  {
   "cell_type": "code",
   "execution_count": 12,
   "id": "f64eaafc",
   "metadata": {},
   "outputs": [],
   "source": [
    "def get_callbacks():\n",
    "    return [tfdocs.modeling.EpochDots(),\n",
    "            tf.keras.callbacks.EarlyStopping(monitor='val_binary_crossentropy', patience=200)]"
   ]
  },
  {
   "cell_type": "code",
   "execution_count": 13,
   "id": "83ca1a68",
   "metadata": {},
   "outputs": [],
   "source": [
    "def compile_and_fit(model, optimizer=None, max_epochs=10000):\n",
    "    if optimizer is None:\n",
    "        optimizer = get_optimizer()\n",
    "    model.compile(optimizer=optimizer,\n",
    "                  loss=tf.keras.losses.BinaryCrossentropy(from_logits=True), \n",
    "                  metrics=[tf.keras.losses.BinaryCrossentropy(from_logits=True, name='binary_crossentropy'), 'accuracy'])\n",
    "\n",
    "    model.summary()\n",
    "\n",
    "    history = model.fit(train_ds,\n",
    "                        steps_per_epoch=STEPS_PER_EPOCH,\n",
    "                        epochs=max_epochs,\n",
    "                        validation_data=validate_ds,\n",
    "                        callbacks=get_callbacks(),\n",
    "                        verbose=0)\n",
    "    return history"
   ]
  },
  {
   "cell_type": "code",
   "execution_count": 14,
   "id": "ec429c67",
   "metadata": {},
   "outputs": [],
   "source": [
    "size_histories = {}"
   ]
  },
  {
   "cell_type": "markdown",
   "id": "bb05d08e",
   "metadata": {},
   "source": [
    "### Tiny model\n",
    "- The base model that contains a layer with input shape (28, ) and 16 output units, plus one output dense layer."
   ]
  },
  {
   "cell_type": "code",
   "execution_count": 15,
   "id": "394a53d4",
   "metadata": {},
   "outputs": [
    {
     "name": "stdout",
     "output_type": "stream",
     "text": [
      "Model: \"sequential\"\n",
      "_________________________________________________________________\n",
      " Layer (type)                Output Shape              Param #   \n",
      "=================================================================\n",
      " dense (Dense)               (None, 16)                464       \n",
      "                                                                 \n",
      " dense_1 (Dense)             (None, 1)                 17        \n",
      "                                                                 \n",
      "=================================================================\n",
      "Total params: 481\n",
      "Trainable params: 481\n",
      "Non-trainable params: 0\n",
      "_________________________________________________________________\n",
      "\n",
      "Epoch: 0, accuracy:0.4735,  binary_crossentropy:1.1680,  loss:1.1680,  val_accuracy:0.4620,  val_binary_crossentropy:0.8886,  val_loss:0.8886,  \n",
      "....................................................................................................\n",
      "Epoch: 100, accuracy:0.5812,  binary_crossentropy:0.6341,  loss:0.6341,  val_accuracy:0.5650,  val_binary_crossentropy:0.6352,  val_loss:0.6352,  \n",
      "....................................................................................................\n",
      "Epoch: 200, accuracy:0.5957,  binary_crossentropy:0.6250,  loss:0.6250,  val_accuracy:0.5850,  val_binary_crossentropy:0.6233,  val_loss:0.6233,  \n",
      "....................................................................................................\n",
      "Epoch: 300, accuracy:0.6150,  binary_crossentropy:0.6175,  loss:0.6175,  val_accuracy:0.5820,  val_binary_crossentropy:0.6175,  val_loss:0.6175,  \n",
      "....................................................................................................\n",
      "Epoch: 400, accuracy:0.6299,  binary_crossentropy:0.6090,  loss:0.6090,  val_accuracy:0.5980,  val_binary_crossentropy:0.6111,  val_loss:0.6111,  \n",
      "....................................................................................................\n",
      "Epoch: 500, accuracy:0.6449,  binary_crossentropy:0.6002,  loss:0.6002,  val_accuracy:0.6320,  val_binary_crossentropy:0.6027,  val_loss:0.6027,  \n",
      "....................................................................................................\n",
      "Epoch: 600, accuracy:0.6506,  binary_crossentropy:0.5953,  loss:0.5953,  val_accuracy:0.6550,  val_binary_crossentropy:0.5983,  val_loss:0.5983,  \n",
      "....................................................................................................\n",
      "Epoch: 700, accuracy:0.6530,  binary_crossentropy:0.5910,  loss:0.5910,  val_accuracy:0.6520,  val_binary_crossentropy:0.5951,  val_loss:0.5951,  \n",
      "....................................................................................................\n",
      "Epoch: 800, accuracy:0.6599,  binary_crossentropy:0.5886,  loss:0.5886,  val_accuracy:0.6470,  val_binary_crossentropy:0.5950,  val_loss:0.5950,  \n",
      "....................................................................................................\n",
      "Epoch: 900, accuracy:0.6623,  binary_crossentropy:0.5861,  loss:0.5861,  val_accuracy:0.6510,  val_binary_crossentropy:0.5918,  val_loss:0.5918,  \n",
      "....................................................................................................\n",
      "Epoch: 1000, accuracy:0.6648,  binary_crossentropy:0.5843,  loss:0.5843,  val_accuracy:0.6560,  val_binary_crossentropy:0.5894,  val_loss:0.5894,  \n",
      "....................................................................................................\n",
      "Epoch: 1100, accuracy:0.6697,  binary_crossentropy:0.5823,  loss:0.5823,  val_accuracy:0.6430,  val_binary_crossentropy:0.5895,  val_loss:0.5895,  \n",
      "....................................................................................................\n",
      "Epoch: 1200, accuracy:0.6697,  binary_crossentropy:0.5813,  loss:0.5813,  val_accuracy:0.6550,  val_binary_crossentropy:0.5877,  val_loss:0.5877,  \n",
      "....................................................................................................\n",
      "Epoch: 1300, accuracy:0.6762,  binary_crossentropy:0.5799,  loss:0.5799,  val_accuracy:0.6490,  val_binary_crossentropy:0.5876,  val_loss:0.5876,  \n",
      "....................................................................................................\n",
      "Epoch: 1400, accuracy:0.6766,  binary_crossentropy:0.5787,  loss:0.5787,  val_accuracy:0.6410,  val_binary_crossentropy:0.5885,  val_loss:0.5885,  \n",
      "....................................................................................................\n",
      "Epoch: 1500, accuracy:0.6792,  binary_crossentropy:0.5782,  loss:0.5782,  val_accuracy:0.6400,  val_binary_crossentropy:0.5877,  val_loss:0.5877,  \n",
      "....................................................................................................\n",
      "Epoch: 1600, accuracy:0.6754,  binary_crossentropy:0.5775,  loss:0.5775,  val_accuracy:0.6570,  val_binary_crossentropy:0.5844,  val_loss:0.5844,  \n",
      "....................................................................................................\n",
      "Epoch: 1700, accuracy:0.6819,  binary_crossentropy:0.5765,  loss:0.5765,  val_accuracy:0.6560,  val_binary_crossentropy:0.5845,  val_loss:0.5845,  \n",
      "....................................................................................................\n",
      "Epoch: 1800, accuracy:0.6786,  binary_crossentropy:0.5761,  loss:0.5761,  val_accuracy:0.6590,  val_binary_crossentropy:0.5833,  val_loss:0.5833,  \n",
      "....................................................................................................\n",
      "Epoch: 1900, accuracy:0.6824,  binary_crossentropy:0.5755,  loss:0.5755,  val_accuracy:0.6480,  val_binary_crossentropy:0.5842,  val_loss:0.5842,  \n",
      "....................................................................................................\n",
      "Epoch: 2000, accuracy:0.6803,  binary_crossentropy:0.5748,  loss:0.5748,  val_accuracy:0.6490,  val_binary_crossentropy:0.5849,  val_loss:0.5849,  \n",
      "....................................................................................................\n",
      "Epoch: 2100, accuracy:0.6825,  binary_crossentropy:0.5739,  loss:0.5739,  val_accuracy:0.6580,  val_binary_crossentropy:0.5834,  val_loss:0.5834,  \n",
      "....................................................................................................\n",
      "Epoch: 2200, accuracy:0.6840,  binary_crossentropy:0.5734,  loss:0.5734,  val_accuracy:0.6530,  val_binary_crossentropy:0.5831,  val_loss:0.5831,  \n",
      "....................................................................................................\n",
      "Epoch: 2300, accuracy:0.6827,  binary_crossentropy:0.5739,  loss:0.5739,  val_accuracy:0.6630,  val_binary_crossentropy:0.5820,  val_loss:0.5820,  \n",
      "....................................................................................................\n",
      "Epoch: 2400, accuracy:0.6851,  binary_crossentropy:0.5729,  loss:0.5729,  val_accuracy:0.6640,  val_binary_crossentropy:0.5817,  val_loss:0.5817,  \n",
      "....................................................................................................\n",
      "Epoch: 2500, accuracy:0.6848,  binary_crossentropy:0.5722,  loss:0.5722,  val_accuracy:0.6590,  val_binary_crossentropy:0.5826,  val_loss:0.5826,  \n",
      "....................................................................................................\n",
      "Epoch: 2600, accuracy:0.6830,  binary_crossentropy:0.5717,  loss:0.5717,  val_accuracy:0.6700,  val_binary_crossentropy:0.5811,  val_loss:0.5811,  \n",
      "............................................."
     ]
    }
   ],
   "source": [
    "tiny_model = tf.keras.Sequential([\n",
    "    tf.keras.layers.Dense(16, activation='elu', input_shape=(FEATURES,)),\n",
    "    tf.keras.layers.Dense(1)\n",
    "])\n",
    "\n",
    "size_histories['tiny_model'] = compile_and_fit(tiny_model)"
   ]
  },
  {
   "cell_type": "code",
   "execution_count": 16,
   "id": "2697108a",
   "metadata": {},
   "outputs": [
    {
     "data": {
      "image/png": "[encoded data removed]",
      "text/plain": [
       "<Figure size 432x288 with 1 Axes>"
      ]
     },
     "metadata": {
      "needs_background": "light"
     },
     "output_type": "display_data"
    }
   ],
   "source": [
    "plotter = tfdocs.plots.HistoryPlotter(metric='binary_crossentropy', smoothing_std=10)\n",
    "plotter.plot(size_histories)"
   ]
  },
  {
   "cell_type": "markdown",
   "id": "a0c62fc6",
   "metadata": {},
   "source": [
    "### Small model\n",
    "- Small model (larger than the *tiny model*) contains two hidden layers with 16 units each."
   ]
  },
  {
   "cell_type": "code",
   "execution_count": 17,
   "id": "e7a12f91",
   "metadata": {},
   "outputs": [
    {
     "name": "stdout",
     "output_type": "stream",
     "text": [
      "Model: \"sequential_1\"\n",
      "_________________________________________________________________\n",
      " Layer (type)                Output Shape              Param #   \n",
      "=================================================================\n",
      " dense_2 (Dense)             (None, 16)                464       \n",
      "                                                                 \n",
      " dense_3 (Dense)             (None, 16)                272       \n",
      "                                                                 \n",
      " dense_4 (Dense)             (None, 1)                 17        \n",
      "                                                                 \n",
      "=================================================================\n",
      "Total params: 753\n",
      "Trainable params: 753\n",
      "Non-trainable params: 0\n",
      "_________________________________________________________________\n",
      "\n",
      "Epoch: 0, accuracy:0.4832,  binary_crossentropy:0.7844,  loss:0.7844,  val_accuracy:0.5000,  val_binary_crossentropy:0.7242,  val_loss:0.7242,  \n",
      "....................................................................................................\n",
      "Epoch: 100, accuracy:0.6161,  binary_crossentropy:0.6200,  loss:0.6200,  val_accuracy:0.5640,  val_binary_crossentropy:0.6328,  val_loss:0.6328,  \n",
      "....................................................................................................\n",
      "Epoch: 200, accuracy:0.6503,  binary_crossentropy:0.5954,  loss:0.5954,  val_accuracy:0.6600,  val_binary_crossentropy:0.5967,  val_loss:0.5967,  \n",
      "....................................................................................................\n",
      "Epoch: 300, accuracy:0.6753,  binary_crossentropy:0.5786,  loss:0.5786,  val_accuracy:0.6430,  val_binary_crossentropy:0.5877,  val_loss:0.5877,  \n",
      "....................................................................................................\n",
      "Epoch: 400, accuracy:0.6808,  binary_crossentropy:0.5703,  loss:0.5703,  val_accuracy:0.6590,  val_binary_crossentropy:0.5826,  val_loss:0.5826,  \n",
      "....................................................................................................\n",
      "Epoch: 500, accuracy:0.6885,  binary_crossentropy:0.5643,  loss:0.5643,  val_accuracy:0.6730,  val_binary_crossentropy:0.5831,  val_loss:0.5831,  \n",
      "..................................................................................................."
     ]
    }
   ],
   "source": [
    "small_model = tf.keras.Sequential([\n",
    "    tf.keras.layers.Dense(16, activation='elu', input_shape=(FEATURES,)),\n",
    "    tf.keras.layers.Dense(16, activation='elu'),\n",
    "    tf.keras.layers.Dense(1)\n",
    "])\n",
    "\n",
    "size_histories['small_model'] = compile_and_fit(small_model)"
   ]
  },
  {
   "cell_type": "markdown",
   "id": "53ce3211",
   "metadata": {},
   "source": [
    "### Medium model\n",
    "- Medium model contains three hidden layers with 64 units each."
   ]
  },
  {
   "cell_type": "code",
   "execution_count": 18,
   "id": "0e5a75f6",
   "metadata": {
    "scrolled": false
   },
   "outputs": [
    {
     "name": "stdout",
     "output_type": "stream",
     "text": [
      "Model: \"sequential_2\"\n",
      "_________________________________________________________________\n",
      " Layer (type)                Output Shape              Param #   \n",
      "=================================================================\n",
      " dense_5 (Dense)             (None, 64)                1856      \n",
      "                                                                 \n",
      " dense_6 (Dense)             (None, 64)                4160      \n",
      "                                                                 \n",
      " dense_7 (Dense)             (None, 64)                4160      \n",
      "                                                                 \n",
      " dense_8 (Dense)             (None, 1)                 65        \n",
      "                                                                 \n",
      "=================================================================\n",
      "Total params: 10,241\n",
      "Trainable params: 10,241\n",
      "Non-trainable params: 0\n",
      "_________________________________________________________________\n",
      "\n",
      "Epoch: 0, accuracy:0.4964,  binary_crossentropy:0.6937,  loss:0.6937,  val_accuracy:0.4800,  val_binary_crossentropy:0.6786,  val_loss:0.6786,  \n",
      "....................................................................................................\n",
      "Epoch: 100, accuracy:0.7088,  binary_crossentropy:0.5329,  loss:0.5329,  val_accuracy:0.6670,  val_binary_crossentropy:0.6024,  val_loss:0.6024,  \n",
      "....................................................................................................\n",
      "Epoch: 200, accuracy:0.7777,  binary_crossentropy:0.4455,  loss:0.4455,  val_accuracy:0.6700,  val_binary_crossentropy:0.6820,  val_loss:0.6820,  \n",
      "................................................................................"
     ]
    }
   ],
   "source": [
    "medium_model = tf.keras.Sequential([\n",
    "    tf.keras.layers.Dense(64, activation='elu', input_shape=(FEATURES,)),\n",
    "    tf.keras.layers.Dense(64, activation='elu'),\n",
    "    tf.keras.layers.Dense(64, activation='elu'),\n",
    "    tf.keras.layers.Dense(1)\n",
    "])\n",
    "\n",
    "size_histories['medium_model'] = compile_and_fit(medium_model)"
   ]
  },
  {
   "cell_type": "markdown",
   "id": "f1d25350",
   "metadata": {},
   "source": [
    "### Large model\n",
    "- Create even larger model than medium model."
   ]
  },
  {
   "cell_type": "code",
   "execution_count": 19,
   "id": "181c2ccd",
   "metadata": {
    "scrolled": false
   },
   "outputs": [
    {
     "name": "stdout",
     "output_type": "stream",
     "text": [
      "Model: \"sequential_3\"\n",
      "_________________________________________________________________\n",
      " Layer (type)                Output Shape              Param #   \n",
      "=================================================================\n",
      " dense_9 (Dense)             (None, 512)               14848     \n",
      "                                                                 \n",
      " dense_10 (Dense)            (None, 512)               262656    \n",
      "                                                                 \n",
      " dense_11 (Dense)            (None, 512)               262656    \n",
      "                                                                 \n",
      " dense_12 (Dense)            (None, 512)               262656    \n",
      "                                                                 \n",
      " dense_13 (Dense)            (None, 1)                 513       \n",
      "                                                                 \n",
      "=================================================================\n",
      "Total params: 803,329\n",
      "Trainable params: 803,329\n",
      "Non-trainable params: 0\n",
      "_________________________________________________________________\n",
      "\n",
      "Epoch: 0, accuracy:0.4954,  binary_crossentropy:0.8166,  loss:0.8166,  val_accuracy:0.5630,  val_binary_crossentropy:0.6741,  val_loss:0.6741,  \n",
      "....................................................................................................\n",
      "Epoch: 100, accuracy:1.0000,  binary_crossentropy:0.0025,  loss:0.0025,  val_accuracy:0.6530,  val_binary_crossentropy:1.8694,  val_loss:1.8694,  \n",
      "....................................................................................................\n",
      "Epoch: 200, accuracy:1.0000,  binary_crossentropy:0.0001,  loss:0.0001,  val_accuracy:0.6530,  val_binary_crossentropy:2.5738,  val_loss:2.5738,  \n",
      "............................"
     ]
    }
   ],
   "source": [
    "large_model = tf.keras.Sequential([\n",
    "    tf.keras.layers.Dense(512, activation='elu', input_shape=(FEATURES,)),\n",
    "    tf.keras.layers.Dense(512, activation='elu'),\n",
    "    tf.keras.layers.Dense(512, activation='elu'),\n",
    "    tf.keras.layers.Dense(512, activation='elu'),\n",
    "    tf.keras.layers.Dense(1),\n",
    "])\n",
    "\n",
    "size_histories['large_model'] = compile_and_fit(large_model)"
   ]
  },
  {
   "cell_type": "markdown",
   "id": "517a6602",
   "metadata": {},
   "source": [
    "### Plot the training and validation losses\n",
    "- Solid lines show the training loss, and the dashed lines show the validation loss (lower validation loss indicates a better model)\n",
    "- As seen below plot, only the *tiny model* manages to avoid overfitting completely, and each of other models (larger models than *tiny model*) overfit the data more quickly. \n",
    "- If the validation metric begins to stagnate while the training metric keeps to improve, or if the validation metric is going in the wrong direction, the model starts overfitting. "
   ]
  },
  {
   "cell_type": "code",
   "execution_count": 20,
   "id": "8f0b5844",
   "metadata": {},
   "outputs": [
    {
     "data": {
      "image/png": "[encoded data removed]",
      "text/plain": [
       "<Figure size 432x288 with 1 Axes>"
      ]
     },
     "metadata": {
      "needs_background": "light"
     },
     "output_type": "display_data"
    }
   ],
   "source": [
    "plotter.plot(size_histories)\n",
    "plt.xscale('log')\n",
    "plt.xlim([5, max(plt.xlim())])\n",
    "plt.ylim([0.5, 0.7])\n",
    "plt.xlabel(\"Epochs [Log Scale]\")\n",
    "plt.show()"
   ]
  }
 ],
 "metadata": {
  "kernelspec": {
   "display_name": "Python 3 (ipykernel)",
   "language": "python",
   "name": "python3"
  },
  "language_info": {
   "codemirror_mode": {
    "name": "ipython",
    "version": 3
   },
   "file_extension": ".py",
   "mimetype": "text/x-python",
   "name": "python",
   "nbconvert_exporter": "python",
   "pygments_lexer": "ipython3",
   "version": "3.9.7"
  }
 },
 "nbformat": 4,
 "nbformat_minor": 5
}
