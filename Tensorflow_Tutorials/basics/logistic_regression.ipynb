{
 "cells": [
  {
   "cell_type": "markdown",
   "metadata": {
    "id": "LlRBTaDEo1Co"
   },
   "source": [
    "# Logistic Regression\n",
    "\n",
    "- Logistic regression estimates the probability of an event occurring, such as voted or did not vote, based on a given dataset. Logistic regression is used to make a prediction about a categorical variable (yes or no, true or false, 1 or 0 etc.). (Reference: https://www.ibm.com/topics/logistic-regression#:~:text=Logistic%20regression%20estimates%20the%20probability,bounded%20between%200%20and%201)\n",
    "- Logistic regression model reference: https://wikidocs.net/111476"
   ]
  },
  {
   "cell_type": "code",
   "execution_count": 1,
   "metadata": {
    "id": "urcbJjY3oxP8"
   },
   "outputs": [
    {
     "name": "stdout",
     "output_type": "stream",
     "text": [
      "Tensorflow version: 2.9.1\n"
     ]
    }
   ],
   "source": [
    "import numpy as np\n",
    "import matplotlib.pyplot as plt\n",
    "import tensorflow as tf\n",
    "\n",
    "print('Tensorflow version:', tf.__version__)"
   ]
  },
  {
   "cell_type": "markdown",
   "metadata": {
    "id": "gaxI5oWyE6rF"
   },
   "source": [
    "### Understanding a sigmoid function\n",
    "- Find more details about a sigmoid function from [here](./activation_function.ipynb)"
   ]
  },
  {
   "cell_type": "code",
   "execution_count": 2,
   "metadata": {
    "colab": {
     "base_uri": "https://localhost:8080/",
     "height": 281
    },
    "id": "V7GFAXU_E5iS",
    "outputId": "677a9764-0729-4c01-8dd3-8b35cfecc4ef"
   },
   "outputs": [
    {
     "data": {
      "image/png": "[encoded data removed]",
      "text/plain": [
       "<Figure size 432x288 with 1 Axes>"
      ]
     },
     "metadata": {
      "needs_background": "light"
     },
     "output_type": "display_data"
    }
   ],
   "source": [
    "# sigmoid function = 1 / (1 + e^(wx + b)) where w and b represents weight and bias respectively.\n",
    "# Here, we assume w = 1 and b = 0.\n",
    "\n",
    "def sigmoid(x):\n",
    "    return (1 / (1 + np.exp(-x)))\n",
    "\n",
    "x = np.arange(-5.0, 5.0, 0.1)\n",
    "y = sigmoid(x)\n",
    "\n",
    "plt.plot(x, y, 'g')\n",
    "plt.plot([0, 0], [1.0, 0.0], ':')\n",
    "plt.title('Sigmoid Function')\n",
    "plt.show()"
   ]
  },
  {
   "cell_type": "code",
   "execution_count": 3,
   "metadata": {
    "colab": {
     "base_uri": "https://localhost:8080/"
    },
    "id": "gcWkRbnSZb0H",
    "outputId": "60b35aa0-c6b8-4f0b-b05f-d2a9393e4586"
   },
   "outputs": [
    {
     "data": {
      "text/plain": [
       "<keras.callbacks.History at 0x18edf8b4760>"
      ]
     },
     "execution_count": 3,
     "metadata": {},
     "output_type": "execute_result"
    }
   ],
   "source": [
    "# mark true (1) if a number is greater or equal to 10, otherwise false (0)\n",
    "x = np.array([-20, -15, -10, -5, 0, 1, 5, 9, 10, 20, 30, 40, 50])\n",
    "y = np.array([0, 0, 0, 0, 0, 0, 0, 0, 1, 1, 1, 1, 1])\n",
    "\n",
    "model = tf.keras.Sequential([\n",
    "    tf.keras.layers.Dense(1, input_shape=(1,)),\n",
    "    tf.keras.layers.Activation('sigmoid')\n",
    "])\n",
    "\n",
    "model.compile(optimizer=tf.keras.optimizers.SGD(),\n",
    "              loss=tf.keras.losses.BinaryCrossentropy(from_logits=False),\n",
    "              metrics=['binary_accuracy'])\n",
    "\n",
    "model.fit(x, y, epochs=2000, verbose=0)"
   ]
  },
  {
   "cell_type": "code",
   "execution_count": 4,
   "metadata": {
    "colab": {
     "base_uri": "https://localhost:8080/",
     "height": 281
    },
    "id": "R6ubWOlKbPQJ",
    "outputId": "9da45a10-bc67-468c-9d16-dfb400e1fb24"
   },
   "outputs": [
    {
     "name": "stdout",
     "output_type": "stream",
     "text": [
      "1/1 [==============================] - 0s 311ms/step\n"
     ]
    },
    {
     "data": {
      "image/png": "[encoded data removed]",
      "text/plain": [
       "<Figure size 432x288 with 1 Axes>"
      ]
     },
     "metadata": {
      "needs_background": "light"
     },
     "output_type": "display_data"
    }
   ],
   "source": [
    "result = model.predict(x)\n",
    "\n",
    "plt.figure()\n",
    "plt.plot(x, result, 'b', x, y, 'k.')\n",
    "plt.show()"
   ]
  },
  {
   "cell_type": "code",
   "execution_count": 5,
   "metadata": {
    "colab": {
     "base_uri": "https://localhost:8080/"
    },
    "id": "JwMRHa6IbpuU",
    "outputId": "c84e26b2-040b-4fe2-f29f-bc9dca97c03a"
   },
   "outputs": [
    {
     "name": "stdout",
     "output_type": "stream",
     "text": [
      "1/1 [==============================] - 0s 31ms/step\n",
      "Probability prediction:\n",
      " [[0.14733727]\n",
      " [0.17840146]\n",
      " [0.21436854]\n",
      " [0.25533333]\n",
      " [0.5744863 ]\n",
      " [0.8088107 ]\n",
      " [0.9298523 ]\n",
      " [0.9999203 ]]\n"
     ]
    }
   ],
   "source": [
    "# probability prediction\n",
    "print('Probability prediction:\\n', model.predict(np.array([1, 2, 3, 4, 10, 15, 20, 50])))"
   ]
  }
 ],
 "metadata": {
  "colab": {
   "authorship_tag": "ABX9TyM1NRorn39BSHlh8+MqO1PX",
   "collapsed_sections": [],
   "include_colab_link": true,
   "name": "logistic-regression.ipynb",
   "provenance": []
  },
  "kernelspec": {
   "display_name": "Python 3 (ipykernel)",
   "language": "python",
   "name": "python3"
  },
  "language_info": {
   "codemirror_mode": {
    "name": "ipython",
    "version": 3
   },
   "file_extension": ".py",
   "mimetype": "text/x-python",
   "name": "python",
   "nbconvert_exporter": "python",
   "pygments_lexer": "ipython3",
   "version": "3.9.7"
  }
 },
 "nbformat": 4,
 "nbformat_minor": 1
}
