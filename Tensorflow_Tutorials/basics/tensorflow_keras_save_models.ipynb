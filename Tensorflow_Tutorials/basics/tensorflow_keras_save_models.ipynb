{
 "cells": [
  {
   "cell_type": "markdown",
   "id": "2c116087",
   "metadata": {},
   "source": [
    "# Save and load models\n",
    "- Learn how to save and load models using TensorFlow Keras API. \n",
    "- Full tutorial reference: https://www.tensorflow.org/tutorials/keras/save_and_load"
   ]
  },
  {
   "cell_type": "markdown",
   "id": "b10e663d",
   "metadata": {},
   "source": [
    "### Import TensorFlow and necessary libraries"
   ]
  },
  {
   "cell_type": "code",
   "execution_count": 1,
   "id": "ed912f72",
   "metadata": {},
   "outputs": [
    {
     "name": "stdout",
     "output_type": "stream",
     "text": [
      "TensorFlow version: 2.9.1\n"
     ]
    }
   ],
   "source": [
    "import os\n",
    "import tensorflow as tf\n",
    "\n",
    "print('TensorFlow version:', tf.__version__)"
   ]
  },
  {
   "cell_type": "markdown",
   "id": "cda0bc31",
   "metadata": {},
   "source": [
    "### Get an example dataset"
   ]
  },
  {
   "cell_type": "code",
   "execution_count": 2,
   "id": "6d5f87e2",
   "metadata": {},
   "outputs": [],
   "source": [
    "(train_images, train_labels), (test_images, test_labels) = tf.keras.datasets.mnist.load_data()\n",
    "\n",
    "# for fast implementation, use the first 1,000 examples\n",
    "train_labels = train_labels[:1000]\n",
    "test_labels = test_labels[:1000]\n",
    "\n",
    "train_images = train_images[:1000].reshape(-1, 28 * 28) / 255.0\n",
    "test_images = test_images[:1000].reshape(-1, 28 * 28) / 255.0"
   ]
  },
  {
   "cell_type": "code",
   "execution_count": 3,
   "id": "99d25652",
   "metadata": {
    "scrolled": false
   },
   "outputs": [
    {
     "data": {
      "text/plain": [
       "(1000, 784)"
      ]
     },
     "execution_count": 3,
     "metadata": {},
     "output_type": "execute_result"
    }
   ],
   "source": [
    "train_images.shape"
   ]
  },
  {
   "cell_type": "markdown",
   "id": "a777098e",
   "metadata": {},
   "source": [
    "### Define a model"
   ]
  },
  {
   "cell_type": "code",
   "execution_count": 4,
   "id": "2082a0da",
   "metadata": {},
   "outputs": [
    {
     "name": "stdout",
     "output_type": "stream",
     "text": [
      "Model: \"sequential\"\n",
      "_________________________________________________________________\n",
      " Layer (type)                Output Shape              Param #   \n",
      "=================================================================\n",
      " dense (Dense)               (None, 512)               401920    \n",
      "                                                                 \n",
      " dropout (Dropout)           (None, 512)               0         \n",
      "                                                                 \n",
      " dense_1 (Dense)             (None, 10)                5130      \n",
      "                                                                 \n",
      "=================================================================\n",
      "Total params: 407,050\n",
      "Trainable params: 407,050\n",
      "Non-trainable params: 0\n",
      "_________________________________________________________________\n"
     ]
    }
   ],
   "source": [
    "def create_model():\n",
    "    model = tf.keras.Sequential([\n",
    "        tf.keras.layers.Dense(512, activation='relu', input_shape=(784,)),\n",
    "        tf.keras.layers.Dropout(0.2),\n",
    "        tf.keras.layers.Dense(10)\n",
    "    ])\n",
    "    \n",
    "    model.compile(\n",
    "        optimizer='adam',\n",
    "        loss=tf.keras.losses.SparseCategoricalCrossentropy(from_logits=True),\n",
    "        metrics=[tf.keras.metrics.SparseCategoricalAccuracy()]\n",
    "    )\n",
    "    \n",
    "    return model\n",
    "\n",
    "model = create_model()\n",
    "model.summary()"
   ]
  },
  {
   "cell_type": "markdown",
   "id": "bed016d6",
   "metadata": {},
   "source": [
    "### Checkpoint callback usage\n",
    "- The *tf.keras.callbacks.ModelCheckpoint()* callback saves weights only during training."
   ]
  },
  {
   "cell_type": "code",
   "execution_count": 5,
   "id": "145d442d",
   "metadata": {},
   "outputs": [
    {
     "name": "stdout",
     "output_type": "stream",
     "text": [
      "Epoch 1/10\n",
      "26/32 [=======================>......] - ETA: 0s - loss: 1.2753 - sparse_categorical_accuracy: 0.6250\n",
      "Epoch 1: saving model to training_1\\cp.ckpt\n",
      "32/32 [==============================] - 2s 25ms/step - loss: 1.1747 - sparse_categorical_accuracy: 0.6560 - val_loss: 0.7280 - val_sparse_categorical_accuracy: 0.7800\n",
      "Epoch 2/10\n",
      "29/32 [==========================>...] - ETA: 0s - loss: 0.4147 - sparse_categorical_accuracy: 0.8815\n",
      "Epoch 2: saving model to training_1\\cp.ckpt\n",
      "32/32 [==============================] - 1s 19ms/step - loss: 0.4181 - sparse_categorical_accuracy: 0.8810 - val_loss: 0.5280 - val_sparse_categorical_accuracy: 0.8380\n",
      "Epoch 3/10\n",
      "29/32 [==========================>...] - ETA: 0s - loss: 0.2878 - sparse_categorical_accuracy: 0.9224\n",
      "Epoch 3: saving model to training_1\\cp.ckpt\n",
      "32/32 [==============================] - 1s 18ms/step - loss: 0.2820 - sparse_categorical_accuracy: 0.9230 - val_loss: 0.4591 - val_sparse_categorical_accuracy: 0.8520\n",
      "Epoch 4/10\n",
      "28/32 [=========================>....] - ETA: 0s - loss: 0.2142 - sparse_categorical_accuracy: 0.9587\n",
      "Epoch 4: saving model to training_1\\cp.ckpt\n",
      "32/32 [==============================] - 0s 14ms/step - loss: 0.2041 - sparse_categorical_accuracy: 0.9630 - val_loss: 0.4312 - val_sparse_categorical_accuracy: 0.8600\n",
      "Epoch 5/10\n",
      "29/32 [==========================>...] - ETA: 0s - loss: 0.1580 - sparse_categorical_accuracy: 0.9623\n",
      "Epoch 5: saving model to training_1\\cp.ckpt\n",
      "32/32 [==============================] - 1s 22ms/step - loss: 0.1538 - sparse_categorical_accuracy: 0.9640 - val_loss: 0.4218 - val_sparse_categorical_accuracy: 0.8620\n",
      "Epoch 6/10\n",
      "28/32 [=========================>....] - ETA: 0s - loss: 0.1069 - sparse_categorical_accuracy: 0.9799\n",
      "Epoch 6: saving model to training_1\\cp.ckpt\n",
      "32/32 [==============================] - 1s 21ms/step - loss: 0.1110 - sparse_categorical_accuracy: 0.9780 - val_loss: 0.4073 - val_sparse_categorical_accuracy: 0.8710\n",
      "Epoch 7/10\n",
      "31/32 [============================>.] - ETA: 0s - loss: 0.0846 - sparse_categorical_accuracy: 0.9889\n",
      "Epoch 7: saving model to training_1\\cp.ckpt\n",
      "32/32 [==============================] - 1s 20ms/step - loss: 0.0842 - sparse_categorical_accuracy: 0.9890 - val_loss: 0.3954 - val_sparse_categorical_accuracy: 0.8740\n",
      "Epoch 8/10\n",
      "30/32 [===========================>..] - ETA: 0s - loss: 0.0617 - sparse_categorical_accuracy: 0.9937\n",
      "Epoch 8: saving model to training_1\\cp.ckpt\n",
      "32/32 [==============================] - 1s 21ms/step - loss: 0.0617 - sparse_categorical_accuracy: 0.9940 - val_loss: 0.4272 - val_sparse_categorical_accuracy: 0.8660\n",
      "Epoch 9/10\n",
      "31/32 [============================>.] - ETA: 0s - loss: 0.0515 - sparse_categorical_accuracy: 0.9940\n",
      "Epoch 9: saving model to training_1\\cp.ckpt\n",
      "32/32 [==============================] - 1s 16ms/step - loss: 0.0514 - sparse_categorical_accuracy: 0.9940 - val_loss: 0.4041 - val_sparse_categorical_accuracy: 0.8710\n",
      "Epoch 10/10\n",
      "30/32 [===========================>..] - ETA: 0s - loss: 0.0365 - sparse_categorical_accuracy: 0.9979\n",
      "Epoch 10: saving model to training_1\\cp.ckpt\n",
      "32/32 [==============================] - 0s 15ms/step - loss: 0.0372 - sparse_categorical_accuracy: 0.9980 - val_loss: 0.4118 - val_sparse_categorical_accuracy: 0.8680\n"
     ]
    },
    {
     "data": {
      "text/plain": [
       "<keras.callbacks.History at 0x2c33c19a9a0>"
      ]
     },
     "execution_count": 5,
     "metadata": {},
     "output_type": "execute_result"
    }
   ],
   "source": [
    "checkpoint_path = 'training_1/cp.ckpt'\n",
    "checkpoint_dir = os.path.dirname(checkpoint_path)\n",
    "\n",
    "cp_callback = tf.keras.callbacks.ModelCheckpoint(\n",
    "    filepath=checkpoint_path,\n",
    "    save_weights_only=True,\n",
    "    verbose=1\n",
    ")\n",
    "\n",
    "model.fit(\n",
    "    train_images,\n",
    "    train_labels,\n",
    "    epochs=10,\n",
    "    validation_data=(test_images, test_labels),\n",
    "    callbacks=[cp_callback]\n",
    ")"
   ]
  },
  {
   "cell_type": "code",
   "execution_count": 6,
   "id": "d1a95074",
   "metadata": {},
   "outputs": [
    {
     "data": {
      "text/plain": [
       "['checkpoint', 'cp.ckpt.data-00000-of-00001', 'cp.ckpt.index']"
      ]
     },
     "execution_count": 6,
     "metadata": {},
     "output_type": "execute_result"
    }
   ],
   "source": [
    "os.listdir(checkpoint_dir)"
   ]
  },
  {
   "cell_type": "markdown",
   "id": "16d9fedd",
   "metadata": {},
   "source": [
    "### Load the weights from the checkpoint on a new model"
   ]
  },
  {
   "cell_type": "code",
   "execution_count": 7,
   "id": "b971cc28",
   "metadata": {},
   "outputs": [
    {
     "name": "stdout",
     "output_type": "stream",
     "text": [
      "32/32 - 0s - loss: 2.3079 - sparse_categorical_accuracy: 0.1130 - 231ms/epoch - 7ms/step\n",
      "New model sparse_categorical_accuracy: 0.11299999803304672\n"
     ]
    }
   ],
   "source": [
    "# create a new model instance\n",
    "new_model = create_model()\n",
    "\n",
    "# Evaluate the model\n",
    "new_model_eval = new_model.evaluate(test_images, test_labels, verbose=2)\n",
    "print('New model sparse_categorical_accuracy:', new_model_eval[1])"
   ]
  },
  {
   "cell_type": "code",
   "execution_count": 8,
   "id": "60562c79",
   "metadata": {},
   "outputs": [
    {
     "name": "stdout",
     "output_type": "stream",
     "text": [
      "32/32 - 0s - loss: 0.4118 - sparse_categorical_accuracy: 0.8680 - 122ms/epoch - 4ms/step\n",
      "New model sparse_categorical_accuracy: 0.8679999709129333\n"
     ]
    }
   ],
   "source": [
    "# load the weights\n",
    "new_model.load_weights(checkpoint_path)\n",
    "\n",
    "# re-evaluate the model\n",
    "new_model_eval = new_model.evaluate(test_images, test_labels, verbose=2)\n",
    "print('New model sparse_categorical_accuracy:', new_model_eval[1])"
   ]
  },
  {
   "cell_type": "markdown",
   "id": "dbe449e1",
   "metadata": {},
   "source": [
    "### Save the entire model\n",
    "- An entire model can be saved in two different format:\n",
    "    - SaveModel (default file format in TensorFlow2)\n",
    "    - HDF5"
   ]
  },
  {
   "cell_type": "code",
   "execution_count": 9,
   "id": "966b2f0f",
   "metadata": {},
   "outputs": [
    {
     "name": "stdout",
     "output_type": "stream",
     "text": [
      "INFO:tensorflow:Assets written to: saved_model\\assets\n"
     ]
    }
   ],
   "source": [
    "# save the entire model as a SaveModel file format\n",
    "!mkdir -p saved_model\n",
    "new_model.save('saved_model')"
   ]
  },
  {
   "cell_type": "code",
   "execution_count": 12,
   "id": "4b1421c4",
   "metadata": {},
   "outputs": [
    {
     "name": "stdout",
     "output_type": "stream",
     "text": [
      "Model: \"sequential_1\"\n",
      "_________________________________________________________________\n",
      " Layer (type)                Output Shape              Param #   \n",
      "=================================================================\n",
      " dense_2 (Dense)             (None, 512)               401920    \n",
      "                                                                 \n",
      " dropout_1 (Dropout)         (None, 512)               0         \n",
      "                                                                 \n",
      " dense_3 (Dense)             (None, 10)                5130      \n",
      "                                                                 \n",
      "=================================================================\n",
      "Total params: 407,050\n",
      "Trainable params: 407,050\n",
      "Non-trainable params: 0\n",
      "_________________________________________________________________\n"
     ]
    }
   ],
   "source": [
    "# reload a model from saved model\n",
    "novel_model = tf.keras.models.load_model('saved_model')\n",
    "novel_model.summary()"
   ]
  },
  {
   "cell_type": "code",
   "execution_count": 13,
   "id": "39f76d66",
   "metadata": {},
   "outputs": [
    {
     "name": "stdout",
     "output_type": "stream",
     "text": [
      "32/32 - 0s - loss: 0.4118 - sparse_categorical_accuracy: 0.8680 - 266ms/epoch - 8ms/step\n",
      "Novel model sparse_categorical_accuracy: 0.8679999709129333\n"
     ]
    }
   ],
   "source": [
    "# evaluate the model; it ends up showing the same accuracy as new_model since novel_model reloads the same model\n",
    "novel_model_eval = novel_model.evaluate(test_images, test_labels, verbose=2)\n",
    "print('Novel model sparse_categorical_accuracy:', novel_model_eval[1])"
   ]
  },
  {
   "cell_type": "code",
   "execution_count": 15,
   "id": "15e0abb7",
   "metadata": {},
   "outputs": [],
   "source": [
    "# save the entire model as a HDF5 file format; the '.h5' extension indicates the model should be saved as HDF5\n",
    "new_model.save('hdf5_model.h5')"
   ]
  },
  {
   "cell_type": "code",
   "execution_count": 16,
   "id": "2d247682",
   "metadata": {},
   "outputs": [
    {
     "name": "stdout",
     "output_type": "stream",
     "text": [
      "WARNING:tensorflow:Error in loading the saved optimizer state. As a result, your model is starting with a freshly initialized optimizer.\n",
      "Model: \"sequential_1\"\n",
      "_________________________________________________________________\n",
      " Layer (type)                Output Shape              Param #   \n",
      "=================================================================\n",
      " dense_2 (Dense)             (None, 512)               401920    \n",
      "                                                                 \n",
      " dropout_1 (Dropout)         (None, 512)               0         \n",
      "                                                                 \n",
      " dense_3 (Dense)             (None, 10)                5130      \n",
      "                                                                 \n",
      "=================================================================\n",
      "Total params: 407,050\n",
      "Trainable params: 407,050\n",
      "Non-trainable params: 0\n",
      "_________________________________________________________________\n"
     ]
    }
   ],
   "source": [
    "hdf5_model = tf.keras.models.load_model('hdf5_model.h5')\n",
    "hdf5_model.summary()"
   ]
  },
  {
   "cell_type": "code",
   "execution_count": 17,
   "id": "8fc716b4",
   "metadata": {},
   "outputs": [
    {
     "name": "stdout",
     "output_type": "stream",
     "text": [
      "32/32 - 0s - loss: 0.4118 - sparse_categorical_accuracy: 0.8680 - 239ms/epoch - 7ms/step\n",
      "HDF5 model sparse_categorical_accuracy: 0.8679999709129333\n"
     ]
    }
   ],
   "source": [
    "# evaluate the model\n",
    "hdf5_model_eval = hdf5_model.evaluate(test_images, test_labels, verbose=2)\n",
    "print('HDF5 model sparse_categorical_accuracy:', hdf5_model_eval[1])"
   ]
  },
  {
   "cell_type": "code",
   "execution_count": 18,
   "id": "64fb7255",
   "metadata": {},
   "outputs": [],
   "source": [
    "# MIT License\n",
    "#\n",
    "# Copyright (c) 2017 François Chollet\n",
    "#\n",
    "# Permission is hereby granted, free of charge, to any person obtaining a\n",
    "# copy of this software and associated documentation files (the \"Software\"),\n",
    "# to deal in the Software without restriction, including without limitation\n",
    "# the rights to use, copy, modify, merge, publish, distribute, sublicense,\n",
    "# and/or sell copies of the Software, and to permit persons to whom the\n",
    "# Software is furnished to do so, subject to the following conditions:\n",
    "#\n",
    "# The above copyright notice and this permission notice shall be included in\n",
    "# all copies or substantial portions of the Software.\n",
    "#\n",
    "# THE SOFTWARE IS PROVIDED \"AS IS\", WITHOUT WARRANTY OF ANY KIND, EXPRESS OR\n",
    "# IMPLIED, INCLUDING BUT NOT LIMITED TO THE WARRANTIES OF MERCHANTABILITY,\n",
    "# FITNESS FOR A PARTICULAR PURPOSE AND NONINFRINGEMENT. IN NO EVENT SHALL\n",
    "# THE AUTHORS OR COPYRIGHT HOLDERS BE LIABLE FOR ANY CLAIM, DAMAGES OR OTHER\n",
    "# LIABILITY, WHETHER IN AN ACTION OF CONTRACT, TORT OR OTHERWISE, ARISING\n",
    "# FROM, OUT OF OR IN CONNECTION WITH THE SOFTWARE OR THE USE OR OTHER\n",
    "# DEALINGS IN THE SOFTWARE."
   ]
  }
 ],
 "metadata": {
  "kernelspec": {
   "display_name": "Python 3 (ipykernel)",
   "language": "python",
   "name": "python3"
  },
  "language_info": {
   "codemirror_mode": {
    "name": "ipython",
    "version": 3
   },
   "file_extension": ".py",
   "mimetype": "text/x-python",
   "name": "python",
   "nbconvert_exporter": "python",
   "pygments_lexer": "ipython3",
   "version": "3.9.7"
  },
  "vscode": {
   "interpreter": {
    "hash": "6f5583cf1d9466b5c27e75c89cc6b383bed5736d6b16c51c8074d8690011a952"
   }
  }
 },
 "nbformat": 4,
 "nbformat_minor": 5
}
