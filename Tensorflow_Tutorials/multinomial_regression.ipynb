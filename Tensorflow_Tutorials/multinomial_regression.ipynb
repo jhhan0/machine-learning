{
  "nbformat": 4,
  "nbformat_minor": 0,
  "metadata": {
    "colab": {
      "name": "multinomial-regression.ipynb",
      "provenance": [],
      "collapsed_sections": [],
      "authorship_tag": "ABX9TyMYgeQDBeG4zIcn7wgYAcC5",
      "include_colab_link": true
    },
    "kernelspec": {
      "name": "python3",
      "display_name": "Python 3"
    },
    "language_info": {
      "name": "python"
    }
  },
  "cells": [
    {
      "cell_type": "markdown",
      "metadata": {
        "id": "view-in-github",
        "colab_type": "text"
      },
      "source": [
        "<a href=\"https://colab.research.google.com/github/jhhan0/machine-learning/blob/main/multinomial_regression.ipynb\" target=\"_parent\"><img src=\"https://colab.research.google.com/assets/colab-badge.svg\" alt=\"Open In Colab\"/></a>"
      ]
    },
    {
      "cell_type": "markdown",
      "metadata": {
        "id": "KxJ-VFs9R7F6"
      },
      "source": [
        "## Multinomial linear regression"
      ]
    },
    {
      "cell_type": "code",
      "metadata": {
        "id": "jyVbGHGPRik1"
      },
      "source": [
        "import numpy as np\n",
        "import pandas as pd\n",
        "from tensorflow.keras.models import Sequential\n",
        "from tensorflow.keras.layers import Dense\n",
        "from tensorflow.keras import optimizers"
      ],
      "execution_count": 1,
      "outputs": []
    },
    {
      "cell_type": "code",
      "metadata": {
        "colab": {
          "base_uri": "https://localhost:8080/",
          "height": 204
        },
        "id": "j8WIyIKlY8s4",
        "outputId": "de709d58-6b50-4485-b2f2-14055ca9093d"
      },
      "source": [
        "data = np.array([[70, 85, 11, 73], [71, 89, 18, 82], [50, 80, 20, 72], [99, 20, 10, 57], [50, 10, 10, 34], [20, 99, 10, 58], [40, 50, 20, 56]])\n",
        "df = pd.DataFrame(data, columns=['Midterm', 'Final', 'Additional point', 'Score'])\n",
        "df.head()"
      ],
      "execution_count": 2,
      "outputs": [
        {
          "output_type": "execute_result",
          "data": {
            "text/html": [
              "<div>\n",
              "<style scoped>\n",
              "    .dataframe tbody tr th:only-of-type {\n",
              "        vertical-align: middle;\n",
              "    }\n",
              "\n",
              "    .dataframe tbody tr th {\n",
              "        vertical-align: top;\n",
              "    }\n",
              "\n",
              "    .dataframe thead th {\n",
              "        text-align: right;\n",
              "    }\n",
              "</style>\n",
              "<table border=\"1\" class=\"dataframe\">\n",
              "  <thead>\n",
              "    <tr style=\"text-align: right;\">\n",
              "      <th></th>\n",
              "      <th>Midterm</th>\n",
              "      <th>Final</th>\n",
              "      <th>Additional point</th>\n",
              "      <th>Score</th>\n",
              "    </tr>\n",
              "  </thead>\n",
              "  <tbody>\n",
              "    <tr>\n",
              "      <th>0</th>\n",
              "      <td>70</td>\n",
              "      <td>85</td>\n",
              "      <td>11</td>\n",
              "      <td>73</td>\n",
              "    </tr>\n",
              "    <tr>\n",
              "      <th>1</th>\n",
              "      <td>71</td>\n",
              "      <td>89</td>\n",
              "      <td>18</td>\n",
              "      <td>82</td>\n",
              "    </tr>\n",
              "    <tr>\n",
              "      <th>2</th>\n",
              "      <td>50</td>\n",
              "      <td>80</td>\n",
              "      <td>20</td>\n",
              "      <td>72</td>\n",
              "    </tr>\n",
              "    <tr>\n",
              "      <th>3</th>\n",
              "      <td>99</td>\n",
              "      <td>20</td>\n",
              "      <td>10</td>\n",
              "      <td>57</td>\n",
              "    </tr>\n",
              "    <tr>\n",
              "      <th>4</th>\n",
              "      <td>50</td>\n",
              "      <td>10</td>\n",
              "      <td>10</td>\n",
              "      <td>34</td>\n",
              "    </tr>\n",
              "  </tbody>\n",
              "</table>\n",
              "</div>"
            ],
            "text/plain": [
              "   Midterm  Final  Additional point  Score\n",
              "0       70     85                11     73\n",
              "1       71     89                18     82\n",
              "2       50     80                20     72\n",
              "3       99     20                10     57\n",
              "4       50     10                10     34"
            ]
          },
          "metadata": {},
          "execution_count": 2
        }
      ]
    },
    {
      "cell_type": "code",
      "metadata": {
        "colab": {
          "base_uri": "https://localhost:8080/"
        },
        "id": "Ybup2WOtYRNr",
        "outputId": "dc3cfdc5-a883-4035-f72c-dd9de2909978"
      },
      "source": [
        "# Multinomial linear regression for finalizing score from Midterm, Final and Additional points.\n",
        "# Three independent variables\n",
        "\n",
        "# Using top five data from df\n",
        "x = df[['Midterm', 'Final', 'Additional point']][:5].to_numpy()\n",
        "y = df['Score'][:5].to_numpy()\n",
        "\n",
        "model = Sequential()\n",
        "model.add(Dense(1, activation='linear', input_shape=(3,)))\n",
        "\n",
        "sgd = optimizers.SGD(learning_rate=0.00001)\n",
        "\n",
        "model.compile(optimizer=sgd, loss='mse', metrics=['mse'])\n",
        "\n",
        "model.fit(x, y, batch_size=1, verbose=0, epochs=2000, shuffle=False)"
      ],
      "execution_count": 3,
      "outputs": [
        {
          "output_type": "execute_result",
          "data": {
            "text/plain": [
              "<keras.callbacks.History at 0x7efe0ef65dd0>"
            ]
          },
          "metadata": {},
          "execution_count": 3
        }
      ]
    },
    {
      "cell_type": "code",
      "metadata": {
        "colab": {
          "base_uri": "https://localhost:8080/"
        },
        "id": "ajBFVcXNaYSw",
        "outputId": "8b072f74-a953-4fba-a244-ec19a7a72d25"
      },
      "source": [
        "# Compare the predicted value with the actual value \n",
        "print(model.predict(x))\n",
        "print(y)"
      ],
      "execution_count": 4,
      "outputs": [
        {
          "output_type": "stream",
          "name": "stdout",
          "text": [
            "[[73.11533 ]\n",
            " [81.978516]\n",
            " [71.95451 ]\n",
            " [57.157017]\n",
            " [33.686726]]\n",
            "[73 82 72 57 34]\n"
          ]
        }
      ]
    },
    {
      "cell_type": "code",
      "metadata": {
        "colab": {
          "base_uri": "https://localhost:8080/"
        },
        "id": "vuGCdXEWccmH",
        "outputId": "afa6cd0b-88db-41d1-a4ba-275118a4f2f2"
      },
      "source": [
        "# Use test data to test the model's prediction\n",
        "test = df[['Midterm', 'Final', 'Additional point']][5:].to_numpy()\n",
        "print(model.predict(test))\n",
        "print(df['Score'][5:].to_numpy())"
      ],
      "execution_count": 5,
      "outputs": [
        {
          "output_type": "stream",
          "name": "stdout",
          "text": [
            "[[58.042923]\n",
            " [55.782055]]\n",
            "[58 56]\n"
          ]
        }
      ]
    },
    {
      "cell_type": "markdown",
      "metadata": {
        "id": "YlDBxv1x_Gia"
      },
      "source": [
        "## Multinomial logistic regression"
      ]
    },
    {
      "cell_type": "code",
      "metadata": {
        "colab": {
          "base_uri": "https://localhost:8080/"
        },
        "id": "6BE9LInH_Onh",
        "outputId": "040cc637-42af-47c6-b6c9-749125723d8c"
      },
      "source": [
        "# Sepal Length, Petal Length\n",
        "x = np.array([[5.1, 3.5], [4.7, 3.2], [5.2, 1.8], [7, 4.1], [5.1, 2.1]])\n",
        "# Species type A = 1, type B = 0\n",
        "y = np.array([1, 1, 0, 1, 0])\n",
        "\n",
        "model = Sequential()\n",
        "model.add(Dense(1, activation='sigmoid', input_shape=(2,)))\n",
        "\n",
        "model.compile(optimizer='sgd', loss='binary_crossentropy', metrics=['binary_accuracy'])\n",
        "model.fit(x, y, batch_size=1, verbose=0, epochs=2000, shuffle=False)"
      ],
      "execution_count": 6,
      "outputs": [
        {
          "output_type": "execute_result",
          "data": {
            "text/plain": [
              "<keras.callbacks.History at 0x7efe0eed2f50>"
            ]
          },
          "metadata": {},
          "execution_count": 6
        }
      ]
    },
    {
      "cell_type": "code",
      "metadata": {
        "colab": {
          "base_uri": "https://localhost:8080/"
        },
        "id": "PyzlZywVEez2",
        "outputId": "9e130a9e-7850-44a1-e0d0-d93c8db9cdac"
      },
      "source": [
        "# If the output is greater than 0.5, it is classified as species type A. Otherwise, species type B.\n",
        "print(model.predict(x))"
      ],
      "execution_count": 7,
      "outputs": [
        {
          "output_type": "stream",
          "name": "stdout",
          "text": [
            "[[0.989612  ]\n",
            " [0.98179674]\n",
            " [0.01424024]\n",
            " [0.9571147 ]\n",
            " [0.07644722]]\n"
          ]
        }
      ]
    }
  ]
}