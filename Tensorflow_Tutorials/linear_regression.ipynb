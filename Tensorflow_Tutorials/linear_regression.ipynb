{
 "cells": [
  {
   "cell_type": "markdown",
   "metadata": {
    "id": "8HXci5jPI9_Q"
   },
   "source": [
    "# Linear Regression\n",
    "- Linear regression, also known as a linear model, is a model that assumes a linear relationship between the input variables (x) and the single output variable (y). (Reference: https://machinelearningmastery.com/linear-regression-for-machine-learning/)"
   ]
  },
  {
   "cell_type": "code",
   "execution_count": 1,
   "metadata": {
    "id": "sa07-kydIanz"
   },
   "outputs": [
    {
     "name": "stdout",
     "output_type": "stream",
     "text": [
      "Tensorflow version: 2.9.1\n"
     ]
    }
   ],
   "source": [
    "import matplotlib.pyplot as plt\n",
    "import numpy as np\n",
    "import tensorflow as tf\n",
    "\n",
    "print(\"Tensorflow version:\", tf.__version__)"
   ]
  },
  {
   "cell_type": "code",
   "execution_count": 2,
   "metadata": {
    "colab": {
     "base_uri": "https://localhost:8080/"
    },
    "id": "coZDnkbKJXBc",
    "outputId": "934a9ef5-8b0d-48ce-d89a-f0a44876d045"
   },
   "outputs": [
    {
     "data": {
      "text/plain": [
       "<keras.callbacks.History at 0x1d051d37850>"
      ]
     },
     "execution_count": 2,
     "metadata": {},
     "output_type": "execute_result"
    }
   ],
   "source": [
    "# x represents study time\n",
    "x = [1, 2, 3, 4, 5, 6, 7, 8]\n",
    "# y represents score\n",
    "y = [11, 22, 33, 44, 53, 66, 77, 87]\n",
    "\n",
    "model = tf.keras.Sequential([\n",
    "    tf.keras.layers.Dense(1, input_shape=(1,), activation='linear')\n",
    "])\n",
    "\n",
    "sgd = tf.keras.optimizers.SGD() # gradient descent optimizer\n",
    "mse = tf.keras.losses.MeanSquaredError() # mean squared error\n",
    "\n",
    "model.compile(optimizer=sgd,\n",
    "              loss=mse, \n",
    "              metrics=tf.keras.metrics.MeanSquaredError())\n",
    "\n",
    "model.fit(x, y, epochs=500, verbose=0)"
   ]
  },
  {
   "cell_type": "code",
   "execution_count": 3,
   "metadata": {
    "colab": {
     "base_uri": "https://localhost:8080/",
     "height": 287
    },
    "id": "XBpwBNRXL-gb",
    "outputId": "7cf3782e-00bd-4584-c903-85f145bce586"
   },
   "outputs": [
    {
     "name": "stdout",
     "output_type": "stream",
     "text": [
      "1/1 [==============================] - 0s 326ms/step\n"
     ]
    },
    {
     "data": {
      "image/png": "[encoded data removed]",
      "text/plain": [
       "<Figure size 432x288 with 1 Axes>"
      ]
     },
     "metadata": {
      "needs_background": "light"
     },
     "output_type": "display_data"
    }
   ],
   "source": [
    "result = model.predict(x)\n",
    "\n",
    "plt.figure()\n",
    "plt.xlabel('Study Time', fontsize=16)\n",
    "plt.ylabel('Score', fontsize=16)\n",
    "plt.plot(x, result, 'b', x, y, 'k.')\n",
    "plt.show()"
   ]
  },
  {
   "cell_type": "code",
   "execution_count": 4,
   "metadata": {
    "colab": {
     "base_uri": "https://localhost:8080/"
    },
    "id": "-v39y_sjQVIM",
    "outputId": "6106ca0b-a659-4bab-b3f3-7d1c3501f2a9"
   },
   "outputs": [
    {
     "name": "stdout",
     "output_type": "stream",
     "text": [
      "1/1 [==============================] - 0s 115ms/step\n",
      "Predicted score: [98.013466]\n"
     ]
    }
   ],
   "source": [
    "# Predict a score if a student studies 9 hours\n",
    "print('Predicted score:', model.predict([9])[0])"
   ]
  }
 ],
 "metadata": {
  "colab": {
   "authorship_tag": "ABX9TyPLqGuQt8PascPL5tCv4E9i",
   "collapsed_sections": [],
   "include_colab_link": true,
   "name": "linear-regression.ipynb",
   "provenance": []
  },
  "kernelspec": {
   "display_name": "Python 3 (ipykernel)",
   "language": "python",
   "name": "python3"
  },
  "language_info": {
   "codemirror_mode": {
    "name": "ipython",
    "version": 3
   },
   "file_extension": ".py",
   "mimetype": "text/x-python",
   "name": "python",
   "nbconvert_exporter": "python",
   "pygments_lexer": "ipython3",
   "version": "3.9.7"
  }
 },
 "nbformat": 4,
 "nbformat_minor": 1
}
