{
  "nbformat": 4,
  "nbformat_minor": 0,
  "metadata": {
    "colab": {
      "name": "linear-regression.ipynb",
      "provenance": [],
      "collapsed_sections": [],
      "authorship_tag": "ABX9TyPLqGuQt8PascPL5tCv4E9i",
      "include_colab_link": true
    },
    "kernelspec": {
      "name": "python3",
      "display_name": "Python 3"
    },
    "language_info": {
      "name": "python"
    }
  },
  "cells": [
    {
      "cell_type": "markdown",
      "metadata": {
        "id": "view-in-github",
        "colab_type": "text"
      },
      "source": [
        "<a href=\"https://colab.research.google.com/github/jhhan0/machine-learning/blob/main/linear_regression.ipynb\" target=\"_parent\"><img src=\"https://colab.research.google.com/assets/colab-badge.svg\" alt=\"Open In Colab\"/></a>"
      ]
    },
    {
      "cell_type": "markdown",
      "metadata": {
        "id": "8HXci5jPI9_Q"
      },
      "source": [
        "## Linear Regression Tutorial using Keras"
      ]
    },
    {
      "cell_type": "code",
      "metadata": {
        "id": "sa07-kydIanz"
      },
      "source": [
        "import numpy as np\n",
        "from tensorflow.keras.models import Sequential\n",
        "from tensorflow.keras.layers import Dense\n",
        "from tensorflow.keras import optimizers\n",
        "from tensorflow.keras import Input"
      ],
      "execution_count": 2,
      "outputs": []
    },
    {
      "cell_type": "code",
      "metadata": {
        "colab": {
          "base_uri": "https://localhost:8080/"
        },
        "id": "coZDnkbKJXBc",
        "outputId": "934a9ef5-8b0d-48ce-d89a-f0a44876d045"
      },
      "source": [
        "# x represents study time\n",
        "x = [1, 2, 3, 4, 5, 6, 7, 8, 9]\n",
        "# y represents score\n",
        "y = [11, 22, 33, 44, 53, 66, 77, 87, 95]\n",
        "\n",
        "model = Sequential()\n",
        "model.add(Input(shape=(1,)))\n",
        "model.add(Dense(1, activation='linear'))\n",
        "\n",
        "sgd = optimizers.SGD(learning_rate=0.01)\n",
        "\n",
        "model.compile(optimizer=sgd, loss='mse', metrics=['mse'])\n",
        "\n",
        "model.fit(x, y, batch_size=1, verbose=0, epochs=300, shuffle=False)"
      ],
      "execution_count": 6,
      "outputs": [
        {
          "output_type": "execute_result",
          "data": {
            "text/plain": [
              "<keras.callbacks.History at 0x7f460133a690>"
            ]
          },
          "metadata": {},
          "execution_count": 6
        }
      ]
    },
    {
      "cell_type": "code",
      "metadata": {
        "colab": {
          "base_uri": "https://localhost:8080/",
          "height": 287
        },
        "id": "XBpwBNRXL-gb",
        "outputId": "7cf3782e-00bd-4584-c903-85f145bce586"
      },
      "source": [
        "import matplotlib.pyplot as plt\n",
        "plt.xlabel('Study Time', fontsize=18)\n",
        "plt.ylabel('Score', fontsize=18)\n",
        "plt.plot(x, model.predict(x), 'b', x, y, 'k.')\n",
        "plt.show()"
      ],
      "execution_count": 9,
      "outputs": [
        {
          "output_type": "display_data",
          "data": {
            "image/png": "[encoded data removed]",
            "text/plain": [
              "<Figure size 432x288 with 1 Axes>"
            ]
          },
          "metadata": {
            "needs_background": "light"
          }
        }
      ]
    },
    {
      "cell_type": "code",
      "metadata": {
        "colab": {
          "base_uri": "https://localhost:8080/"
        },
        "id": "-v39y_sjQVIM",
        "outputId": "6106ca0b-a659-4bab-b3f3-7d1c3501f2a9"
      },
      "source": [
        "# Predict score if a student studies 9.5 hours\n",
        "print(model.predict([9.5]))"
      ],
      "execution_count": 10,
      "outputs": [
        {
          "output_type": "stream",
          "name": "stdout",
          "text": [
            "[[98.55645]]\n"
          ]
        }
      ]
    }
  ]
}